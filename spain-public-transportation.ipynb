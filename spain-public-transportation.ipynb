{
 "cells": [
  {
   "cell_type": "markdown",
   "id": "0b09a185",
   "metadata": {
    "papermill": {
     "duration": 0.018256,
     "end_time": "2022-07-29T19:35:42.200338",
     "exception": false,
     "start_time": "2022-07-29T19:35:42.182082",
     "status": "completed"
    },
    "tags": []
   },
   "source": [
    "# Public Transportations in Spain\n",
    "\n",
    "# Introduction:\n",
    "\n",
    "### Extensive Spanish High Speed Rail tickets pricing data analysis.\n",
    "### This sample around 30 days , 2.5 million rows.\n",
    "\n",
    "##### About the columns:\n",
    "\n",
    "- insert date\n",
    "- origin - from where\n",
    "- destination\n",
    "- start_date - start trip\n",
    "- end_date- end trip\n",
    "- train_type\n",
    "- price\n",
    "- train_class\n",
    "- fare\n",
    "\n",
    "\n",
    "# Mission 🙄👀🙄\n",
    "\n",
    "- Data Exploration and analysis\n",
    "- Analyze and Explore DataSet\n"
   ]
  },
  {
   "cell_type": "code",
   "execution_count": 1,
   "id": "57a86740",
   "metadata": {
    "execution": {
     "iopub.execute_input": "2022-07-29T19:35:42.236088Z",
     "iopub.status.busy": "2022-07-29T19:35:42.235092Z",
     "iopub.status.idle": "2022-07-29T19:35:44.366554Z",
     "shell.execute_reply": "2022-07-29T19:35:44.365438Z"
    },
    "papermill": {
     "duration": 2.152561,
     "end_time": "2022-07-29T19:35:44.369483",
     "exception": false,
     "start_time": "2022-07-29T19:35:42.216922",
     "status": "completed"
    },
    "tags": []
   },
   "outputs": [],
   "source": [
    "#Importing the basic librarires fot analysis\n",
    "\n",
    "import numpy as np\n",
    "import pandas as pd\n",
    "import seaborn as sns\n",
    "import matplotlib.pyplot as plt\n",
    "plt.style.use(\"ggplot\")  #using style ggplot\n",
    "\n",
    "%matplotlib inline\n",
    "from mpl_toolkits.mplot3d import Axes3D\n",
    "import datetime as dt\n",
    "import plotly.graph_objects as go\n",
    "import plotly.express as px"
   ]
  },
  {
   "cell_type": "code",
   "execution_count": 2,
   "id": "6ecc2e29",
   "metadata": {
    "execution": {
     "iopub.execute_input": "2022-07-29T19:35:44.407648Z",
     "iopub.status.busy": "2022-07-29T19:35:44.407259Z",
     "iopub.status.idle": "2022-07-29T19:35:51.570287Z",
     "shell.execute_reply": "2022-07-29T19:35:51.569046Z"
    },
    "papermill": {
     "duration": 7.184345,
     "end_time": "2022-07-29T19:35:51.573360",
     "exception": false,
     "start_time": "2022-07-29T19:35:44.389015",
     "status": "completed"
    },
    "tags": []
   },
   "outputs": [
    {
     "data": {
      "text/html": [
       "<div>\n",
       "<style scoped>\n",
       "    .dataframe tbody tr th:only-of-type {\n",
       "        vertical-align: middle;\n",
       "    }\n",
       "\n",
       "    .dataframe tbody tr th {\n",
       "        vertical-align: top;\n",
       "    }\n",
       "\n",
       "    .dataframe thead th {\n",
       "        text-align: right;\n",
       "    }\n",
       "</style>\n",
       "<table border=\"1\" class=\"dataframe\">\n",
       "  <thead>\n",
       "    <tr style=\"text-align: right;\">\n",
       "      <th></th>\n",
       "      <th>Unnamed: 0</th>\n",
       "      <th>insert_date</th>\n",
       "      <th>origin</th>\n",
       "      <th>destination</th>\n",
       "      <th>start_date</th>\n",
       "      <th>end_date</th>\n",
       "      <th>train_type</th>\n",
       "      <th>price</th>\n",
       "      <th>train_class</th>\n",
       "      <th>fare</th>\n",
       "    </tr>\n",
       "  </thead>\n",
       "  <tbody>\n",
       "    <tr>\n",
       "      <th>0</th>\n",
       "      <td>0</td>\n",
       "      <td>2019-04-19 05:31:43</td>\n",
       "      <td>MADRID</td>\n",
       "      <td>SEVILLA</td>\n",
       "      <td>2019-05-29 06:20:00</td>\n",
       "      <td>2019-05-29 09:16:00</td>\n",
       "      <td>AV City</td>\n",
       "      <td>38.55</td>\n",
       "      <td>Turista</td>\n",
       "      <td>Promo</td>\n",
       "    </tr>\n",
       "    <tr>\n",
       "      <th>1</th>\n",
       "      <td>1</td>\n",
       "      <td>2019-04-19 05:31:43</td>\n",
       "      <td>MADRID</td>\n",
       "      <td>SEVILLA</td>\n",
       "      <td>2019-05-29 07:00:00</td>\n",
       "      <td>2019-05-29 09:32:00</td>\n",
       "      <td>AVE</td>\n",
       "      <td>53.40</td>\n",
       "      <td>Turista</td>\n",
       "      <td>Promo</td>\n",
       "    </tr>\n",
       "    <tr>\n",
       "      <th>2</th>\n",
       "      <td>2</td>\n",
       "      <td>2019-04-19 05:31:43</td>\n",
       "      <td>MADRID</td>\n",
       "      <td>SEVILLA</td>\n",
       "      <td>2019-05-29 07:30:00</td>\n",
       "      <td>2019-05-29 09:51:00</td>\n",
       "      <td>AVE</td>\n",
       "      <td>47.30</td>\n",
       "      <td>Turista</td>\n",
       "      <td>Promo</td>\n",
       "    </tr>\n",
       "    <tr>\n",
       "      <th>3</th>\n",
       "      <td>3</td>\n",
       "      <td>2019-04-19 05:31:43</td>\n",
       "      <td>MADRID</td>\n",
       "      <td>SEVILLA</td>\n",
       "      <td>2019-05-29 08:00:00</td>\n",
       "      <td>2019-05-29 10:32:00</td>\n",
       "      <td>AVE</td>\n",
       "      <td>69.40</td>\n",
       "      <td>Preferente</td>\n",
       "      <td>Promo</td>\n",
       "    </tr>\n",
       "    <tr>\n",
       "      <th>4</th>\n",
       "      <td>4</td>\n",
       "      <td>2019-04-19 05:31:43</td>\n",
       "      <td>MADRID</td>\n",
       "      <td>SEVILLA</td>\n",
       "      <td>2019-05-29 08:30:00</td>\n",
       "      <td>2019-05-29 11:14:00</td>\n",
       "      <td>ALVIA</td>\n",
       "      <td>NaN</td>\n",
       "      <td>Turista</td>\n",
       "      <td>Promo</td>\n",
       "    </tr>\n",
       "  </tbody>\n",
       "</table>\n",
       "</div>"
      ],
      "text/plain": [
       "   Unnamed: 0          insert_date  origin destination           start_date  \\\n",
       "0           0  2019-04-19 05:31:43  MADRID     SEVILLA  2019-05-29 06:20:00   \n",
       "1           1  2019-04-19 05:31:43  MADRID     SEVILLA  2019-05-29 07:00:00   \n",
       "2           2  2019-04-19 05:31:43  MADRID     SEVILLA  2019-05-29 07:30:00   \n",
       "3           3  2019-04-19 05:31:43  MADRID     SEVILLA  2019-05-29 08:00:00   \n",
       "4           4  2019-04-19 05:31:43  MADRID     SEVILLA  2019-05-29 08:30:00   \n",
       "\n",
       "              end_date train_type  price train_class   fare  \n",
       "0  2019-05-29 09:16:00    AV City  38.55     Turista  Promo  \n",
       "1  2019-05-29 09:32:00        AVE  53.40     Turista  Promo  \n",
       "2  2019-05-29 09:51:00        AVE  47.30     Turista  Promo  \n",
       "3  2019-05-29 10:32:00        AVE  69.40  Preferente  Promo  \n",
       "4  2019-05-29 11:14:00      ALVIA    NaN     Turista  Promo  "
      ]
     },
     "execution_count": 2,
     "metadata": {},
     "output_type": "execute_result"
    }
   ],
   "source": [
    "#Importing the dataset\n",
    "df =pd.read_csv(\"../input/spain-public-transportation/public_transportation_data.csv\")\n",
    "\n",
    "\n",
    "# look the data set\n",
    "df.head()"
   ]
  },
  {
   "cell_type": "code",
   "execution_count": 3,
   "id": "3c737572",
   "metadata": {
    "execution": {
     "iopub.execute_input": "2022-07-29T19:35:51.609573Z",
     "iopub.status.busy": "2022-07-29T19:35:51.608809Z",
     "iopub.status.idle": "2022-07-29T19:35:51.616687Z",
     "shell.execute_reply": "2022-07-29T19:35:51.615547Z"
    },
    "papermill": {
     "duration": 0.028067,
     "end_time": "2022-07-29T19:35:51.618843",
     "exception": false,
     "start_time": "2022-07-29T19:35:51.590776",
     "status": "completed"
    },
    "tags": []
   },
   "outputs": [
    {
     "data": {
      "text/plain": [
       "(2579771, 10)"
      ]
     },
     "execution_count": 3,
     "metadata": {},
     "output_type": "execute_result"
    }
   ],
   "source": [
    "# looking the shape DataSet\n",
    "df.shape"
   ]
  },
  {
   "cell_type": "markdown",
   "id": "ef589eff",
   "metadata": {
    "papermill": {
     "duration": 0.016507,
     "end_time": "2022-07-29T19:35:51.652168",
     "exception": false,
     "start_time": "2022-07-29T19:35:51.635661",
     "status": "completed"
    },
    "tags": []
   },
   "source": [
    "- We have 2,579,771 rows."
   ]
  },
  {
   "cell_type": "code",
   "execution_count": 4,
   "id": "183678f5",
   "metadata": {
    "execution": {
     "iopub.execute_input": "2022-07-29T19:35:51.687500Z",
     "iopub.status.busy": "2022-07-29T19:35:51.687104Z",
     "iopub.status.idle": "2022-07-29T19:35:51.710917Z",
     "shell.execute_reply": "2022-07-29T19:35:51.709804Z"
    },
    "papermill": {
     "duration": 0.044535,
     "end_time": "2022-07-29T19:35:51.713476",
     "exception": false,
     "start_time": "2022-07-29T19:35:51.668941",
     "status": "completed"
    },
    "tags": []
   },
   "outputs": [
    {
     "name": "stdout",
     "output_type": "stream",
     "text": [
      "<class 'pandas.core.frame.DataFrame'>\n",
      "RangeIndex: 2579771 entries, 0 to 2579770\n",
      "Data columns (total 10 columns):\n",
      " #   Column       Dtype  \n",
      "---  ------       -----  \n",
      " 0   Unnamed: 0   int64  \n",
      " 1   insert_date  object \n",
      " 2   origin       object \n",
      " 3   destination  object \n",
      " 4   start_date   object \n",
      " 5   end_date     object \n",
      " 6   train_type   object \n",
      " 7   price        float64\n",
      " 8   train_class  object \n",
      " 9   fare         object \n",
      "dtypes: float64(1), int64(1), object(8)\n",
      "memory usage: 196.8+ MB\n"
     ]
    }
   ],
   "source": [
    "#Checking the dtypes of all the columns\n",
    "\n",
    "df.info()"
   ]
  },
  {
   "cell_type": "code",
   "execution_count": 5,
   "id": "2b6be990",
   "metadata": {
    "execution": {
     "iopub.execute_input": "2022-07-29T19:35:51.750185Z",
     "iopub.status.busy": "2022-07-29T19:35:51.749528Z",
     "iopub.status.idle": "2022-07-29T19:35:52.527807Z",
     "shell.execute_reply": "2022-07-29T19:35:52.526956Z"
    },
    "papermill": {
     "duration": 0.799595,
     "end_time": "2022-07-29T19:35:52.530301",
     "exception": false,
     "start_time": "2022-07-29T19:35:51.730706",
     "status": "completed"
    },
    "tags": []
   },
   "outputs": [],
   "source": [
    "#Conversion data type column - date from object to Datetime\n",
    "\n",
    "df[\"insert_date\"]=pd.to_datetime(df[\"insert_date\"]) "
   ]
  },
  {
   "cell_type": "code",
   "execution_count": 6,
   "id": "74621ea8",
   "metadata": {
    "execution": {
     "iopub.execute_input": "2022-07-29T19:35:52.568237Z",
     "iopub.status.busy": "2022-07-29T19:35:52.567575Z",
     "iopub.status.idle": "2022-07-29T19:35:52.743966Z",
     "shell.execute_reply": "2022-07-29T19:35:52.742891Z"
    },
    "papermill": {
     "duration": 0.198946,
     "end_time": "2022-07-29T19:35:52.746481",
     "exception": false,
     "start_time": "2022-07-29T19:35:52.547535",
     "status": "completed"
    },
    "tags": []
   },
   "outputs": [
    {
     "data": {
      "text/plain": [
       "count    2269090.00\n",
       "mean          63.39\n",
       "std           25.78\n",
       "min           15.45\n",
       "25%           43.75\n",
       "50%           60.30\n",
       "75%           78.80\n",
       "max          214.20\n",
       "Name: price, dtype: float64"
      ]
     },
     "execution_count": 6,
     "metadata": {},
     "output_type": "execute_result"
    }
   ],
   "source": [
    "# look  describe data set\n",
    "df[\"price\"].describe().round(2)"
   ]
  },
  {
   "cell_type": "markdown",
   "id": "c133ac35",
   "metadata": {
    "papermill": {
     "duration": 0.016704,
     "end_time": "2022-07-29T19:35:52.780927",
     "exception": false,
     "start_time": "2022-07-29T19:35:52.764223",
     "status": "completed"
    },
    "tags": []
   },
   "source": [
    "- Average price 63"
   ]
  },
  {
   "cell_type": "code",
   "execution_count": 7,
   "id": "91776518",
   "metadata": {
    "execution": {
     "iopub.execute_input": "2022-07-29T19:35:52.816514Z",
     "iopub.status.busy": "2022-07-29T19:35:52.816111Z",
     "iopub.status.idle": "2022-07-29T19:35:54.740311Z",
     "shell.execute_reply": "2022-07-29T19:35:54.739082Z"
    },
    "papermill": {
     "duration": 1.945533,
     "end_time": "2022-07-29T19:35:54.743379",
     "exception": false,
     "start_time": "2022-07-29T19:35:52.797846",
     "status": "completed"
    },
    "tags": []
   },
   "outputs": [
    {
     "data": {
      "text/plain": [
       "Unnamed: 0          0\n",
       "insert_date         0\n",
       "origin              0\n",
       "destination         0\n",
       "start_date          0\n",
       "end_date            0\n",
       "train_type          0\n",
       "price          310681\n",
       "train_class      9664\n",
       "fare             9664\n",
       "dtype: int64"
      ]
     },
     "execution_count": 7,
     "metadata": {},
     "output_type": "execute_result"
    }
   ],
   "source": [
    "#checking null value \n",
    "df.isna().sum()"
   ]
  },
  {
   "cell_type": "markdown",
   "id": "4753ca37",
   "metadata": {
    "papermill": {
     "duration": 0.016665,
     "end_time": "2022-07-29T19:35:54.778079",
     "exception": false,
     "start_time": "2022-07-29T19:35:54.761414",
     "status": "completed"
    },
    "tags": []
   },
   "source": [
    "- we have missing data"
   ]
  },
  {
   "cell_type": "markdown",
   "id": "2ff7c764",
   "metadata": {
    "papermill": {
     "duration": 0.017019,
     "end_time": "2022-07-29T19:35:54.812340",
     "exception": false,
     "start_time": "2022-07-29T19:35:54.795321",
     "status": "completed"
    },
    "tags": []
   },
   "source": [
    "# Handle missing data"
   ]
  },
  {
   "cell_type": "code",
   "execution_count": 8,
   "id": "0d65b888",
   "metadata": {
    "execution": {
     "iopub.execute_input": "2022-07-29T19:35:54.849679Z",
     "iopub.status.busy": "2022-07-29T19:35:54.848892Z",
     "iopub.status.idle": "2022-07-29T19:35:55.122934Z",
     "shell.execute_reply": "2022-07-29T19:35:55.121841Z"
    },
    "papermill": {
     "duration": 0.295905,
     "end_time": "2022-07-29T19:35:55.125350",
     "exception": false,
     "start_time": "2022-07-29T19:35:54.829445",
     "status": "completed"
    },
    "tags": []
   },
   "outputs": [
    {
     "data": {
      "text/plain": [
       "origin\n",
       "BARCELONA     84.671718\n",
       "MADRID        64.071365\n",
       "PONFERRADA    42.004859\n",
       "SEVILLA       62.470221\n",
       "VALENCIA      39.852544\n",
       "Name: price, dtype: float64"
      ]
     },
     "execution_count": 8,
     "metadata": {},
     "output_type": "execute_result"
    }
   ],
   "source": [
    "# fill the column price based on origin \n",
    "\n",
    "avg=df.groupby([\"origin\"])[\"price\"].mean()\n",
    "avg"
   ]
  },
  {
   "cell_type": "code",
   "execution_count": 9,
   "id": "d89ac93a",
   "metadata": {
    "execution": {
     "iopub.execute_input": "2022-07-29T19:35:55.162203Z",
     "iopub.status.busy": "2022-07-29T19:35:55.161789Z",
     "iopub.status.idle": "2022-07-29T19:35:55.658750Z",
     "shell.execute_reply": "2022-07-29T19:35:55.657793Z"
    },
    "papermill": {
     "duration": 0.518805,
     "end_time": "2022-07-29T19:35:55.661440",
     "exception": false,
     "start_time": "2022-07-29T19:35:55.142635",
     "status": "completed"
    },
    "tags": []
   },
   "outputs": [],
   "source": [
    "# fill nan in the column price\n",
    "df['price'].fillna(avg,inplace=True)\n"
   ]
  },
  {
   "cell_type": "code",
   "execution_count": 10,
   "id": "6bb0b636",
   "metadata": {
    "execution": {
     "iopub.execute_input": "2022-07-29T19:35:55.697931Z",
     "iopub.status.busy": "2022-07-29T19:35:55.697527Z",
     "iopub.status.idle": "2022-07-29T19:35:57.938484Z",
     "shell.execute_reply": "2022-07-29T19:35:57.937380Z"
    },
    "papermill": {
     "duration": 2.262391,
     "end_time": "2022-07-29T19:35:57.941170",
     "exception": false,
     "start_time": "2022-07-29T19:35:55.678779",
     "status": "completed"
    },
    "tags": []
   },
   "outputs": [],
   "source": [
    "# drop na value in this columns train class and fare\n",
    "\n",
    "df.dropna(inplace=True)"
   ]
  },
  {
   "cell_type": "code",
   "execution_count": 11,
   "id": "342b11ab",
   "metadata": {
    "execution": {
     "iopub.execute_input": "2022-07-29T19:35:57.978011Z",
     "iopub.status.busy": "2022-07-29T19:35:57.976889Z",
     "iopub.status.idle": "2022-07-29T19:35:59.655869Z",
     "shell.execute_reply": "2022-07-29T19:35:59.654783Z"
    },
    "papermill": {
     "duration": 1.699691,
     "end_time": "2022-07-29T19:35:59.658178",
     "exception": false,
     "start_time": "2022-07-29T19:35:57.958487",
     "status": "completed"
    },
    "tags": []
   },
   "outputs": [
    {
     "data": {
      "text/plain": [
       "Unnamed: 0     0\n",
       "insert_date    0\n",
       "origin         0\n",
       "destination    0\n",
       "start_date     0\n",
       "end_date       0\n",
       "train_type     0\n",
       "price          0\n",
       "train_class    0\n",
       "fare           0\n",
       "dtype: int64"
      ]
     },
     "execution_count": 11,
     "metadata": {},
     "output_type": "execute_result"
    }
   ],
   "source": [
    "#checking null value - again\n",
    "df.isna().sum()"
   ]
  },
  {
   "cell_type": "code",
   "execution_count": 12,
   "id": "e44252ce",
   "metadata": {
    "execution": {
     "iopub.execute_input": "2022-07-29T19:35:59.694529Z",
     "iopub.status.busy": "2022-07-29T19:35:59.694130Z",
     "iopub.status.idle": "2022-07-29T19:35:59.700755Z",
     "shell.execute_reply": "2022-07-29T19:35:59.699730Z"
    },
    "papermill": {
     "duration": 0.027312,
     "end_time": "2022-07-29T19:35:59.702888",
     "exception": false,
     "start_time": "2022-07-29T19:35:59.675576",
     "status": "completed"
    },
    "tags": []
   },
   "outputs": [
    {
     "data": {
      "text/plain": [
       "(2269090, 10)"
      ]
     },
     "execution_count": 12,
     "metadata": {},
     "output_type": "execute_result"
    }
   ],
   "source": [
    "# looking the shape DataSet after handle missing data\n",
    "df.shape"
   ]
  },
  {
   "cell_type": "markdown",
   "id": "dfdb0b8f",
   "metadata": {
    "papermill": {
     "duration": 0.0173,
     "end_time": "2022-07-29T19:35:59.737612",
     "exception": false,
     "start_time": "2022-07-29T19:35:59.720312",
     "status": "completed"
    },
    "tags": []
   },
   "source": [
    "- We have 2,579,771 rows.after handle missing data"
   ]
  },
  {
   "cell_type": "code",
   "execution_count": 13,
   "id": "fdc61b24",
   "metadata": {
    "execution": {
     "iopub.execute_input": "2022-07-29T19:35:59.774931Z",
     "iopub.status.busy": "2022-07-29T19:35:59.774583Z",
     "iopub.status.idle": "2022-07-29T19:36:00.573711Z",
     "shell.execute_reply": "2022-07-29T19:36:00.572389Z"
    },
    "papermill": {
     "duration": 0.821546,
     "end_time": "2022-07-29T19:36:00.576675",
     "exception": false,
     "start_time": "2022-07-29T19:35:59.755129",
     "status": "completed"
    },
    "tags": []
   },
   "outputs": [],
   "source": [
    "# add column Day\n",
    "\n",
    "df[\"Day\"]=df[\"insert_date\"].dt.day_name()"
   ]
  },
  {
   "cell_type": "code",
   "execution_count": 14,
   "id": "058dbfdb",
   "metadata": {
    "execution": {
     "iopub.execute_input": "2022-07-29T19:36:00.613603Z",
     "iopub.status.busy": "2022-07-29T19:36:00.613188Z",
     "iopub.status.idle": "2022-07-29T19:36:01.507015Z",
     "shell.execute_reply": "2022-07-29T19:36:01.505869Z"
    },
    "papermill": {
     "duration": 0.91548,
     "end_time": "2022-07-29T19:36:01.509896",
     "exception": false,
     "start_time": "2022-07-29T19:36:00.594416",
     "status": "completed"
    },
    "tags": []
   },
   "outputs": [],
   "source": [
    "# defined function to calculate the time trip\n",
    "\n",
    "df = df.reset_index()\n",
    "\n",
    "datetimeFormat = '%Y-%m-%d %H:%M:%S'\n",
    "def fun(a,b):\n",
    "    diff = dt.datetime.strptime(b, datetimeFormat)- dt.datetime.strptime(a, datetimeFormat)\n",
    "    return(diff.seconds/3600.0)"
   ]
  },
  {
   "cell_type": "code",
   "execution_count": 15,
   "id": "672702f3",
   "metadata": {
    "execution": {
     "iopub.execute_input": "2022-07-29T19:36:01.546810Z",
     "iopub.status.busy": "2022-07-29T19:36:01.546068Z",
     "iopub.status.idle": "2022-07-29T19:38:10.867171Z",
     "shell.execute_reply": "2022-07-29T19:38:10.866198Z"
    },
    "papermill": {
     "duration": 129.342451,
     "end_time": "2022-07-29T19:38:10.869862",
     "exception": false,
     "start_time": "2022-07-29T19:36:01.527411",
     "status": "completed"
    },
    "tags": []
   },
   "outputs": [],
   "source": [
    "# add column trip duration \n",
    "\n",
    "df[\"Trip duration\"] = df.apply(lambda x:fun(x['start_date'],x['end_date']),axis=1) \n"
   ]
  },
  {
   "cell_type": "code",
   "execution_count": 16,
   "id": "6072ebc5",
   "metadata": {
    "execution": {
     "iopub.execute_input": "2022-07-29T19:38:10.907347Z",
     "iopub.status.busy": "2022-07-29T19:38:10.906952Z",
     "iopub.status.idle": "2022-07-29T19:38:11.541635Z",
     "shell.execute_reply": "2022-07-29T19:38:11.540598Z"
    },
    "papermill": {
     "duration": 0.656363,
     "end_time": "2022-07-29T19:38:11.544276",
     "exception": false,
     "start_time": "2022-07-29T19:38:10.887913",
     "status": "completed"
    },
    "tags": []
   },
   "outputs": [],
   "source": [
    "# add columns day and month and years\n",
    "\n",
    "df[\"Month\"]=df[\"insert_date\"].dt.month\n",
    "df[\"day\"]=df[\"insert_date\"].dt.day\n",
    "df[\"year\"]=df[\"insert_date\"].dt.year"
   ]
  },
  {
   "cell_type": "code",
   "execution_count": 17,
   "id": "6cfcf119",
   "metadata": {
    "execution": {
     "iopub.execute_input": "2022-07-29T19:38:11.581546Z",
     "iopub.status.busy": "2022-07-29T19:38:11.581169Z",
     "iopub.status.idle": "2022-07-29T19:38:11.600706Z",
     "shell.execute_reply": "2022-07-29T19:38:11.599645Z"
    },
    "papermill": {
     "duration": 0.041119,
     "end_time": "2022-07-29T19:38:11.602928",
     "exception": false,
     "start_time": "2022-07-29T19:38:11.561809",
     "status": "completed"
    },
    "tags": []
   },
   "outputs": [
    {
     "data": {
      "text/html": [
       "<div>\n",
       "<style scoped>\n",
       "    .dataframe tbody tr th:only-of-type {\n",
       "        vertical-align: middle;\n",
       "    }\n",
       "\n",
       "    .dataframe tbody tr th {\n",
       "        vertical-align: top;\n",
       "    }\n",
       "\n",
       "    .dataframe thead th {\n",
       "        text-align: right;\n",
       "    }\n",
       "</style>\n",
       "<table border=\"1\" class=\"dataframe\">\n",
       "  <thead>\n",
       "    <tr style=\"text-align: right;\">\n",
       "      <th></th>\n",
       "      <th>index</th>\n",
       "      <th>Unnamed: 0</th>\n",
       "      <th>insert_date</th>\n",
       "      <th>origin</th>\n",
       "      <th>destination</th>\n",
       "      <th>start_date</th>\n",
       "      <th>end_date</th>\n",
       "      <th>train_type</th>\n",
       "      <th>price</th>\n",
       "      <th>train_class</th>\n",
       "      <th>fare</th>\n",
       "      <th>Day</th>\n",
       "      <th>Trip duration</th>\n",
       "      <th>Month</th>\n",
       "      <th>day</th>\n",
       "      <th>year</th>\n",
       "    </tr>\n",
       "  </thead>\n",
       "  <tbody>\n",
       "    <tr>\n",
       "      <th>0</th>\n",
       "      <td>0</td>\n",
       "      <td>0</td>\n",
       "      <td>2019-04-19 05:31:43</td>\n",
       "      <td>MADRID</td>\n",
       "      <td>SEVILLA</td>\n",
       "      <td>2019-05-29 06:20:00</td>\n",
       "      <td>2019-05-29 09:16:00</td>\n",
       "      <td>AV City</td>\n",
       "      <td>38.55</td>\n",
       "      <td>Turista</td>\n",
       "      <td>Promo</td>\n",
       "      <td>Friday</td>\n",
       "      <td>2.933333</td>\n",
       "      <td>4</td>\n",
       "      <td>19</td>\n",
       "      <td>2019</td>\n",
       "    </tr>\n",
       "    <tr>\n",
       "      <th>1</th>\n",
       "      <td>1</td>\n",
       "      <td>1</td>\n",
       "      <td>2019-04-19 05:31:43</td>\n",
       "      <td>MADRID</td>\n",
       "      <td>SEVILLA</td>\n",
       "      <td>2019-05-29 07:00:00</td>\n",
       "      <td>2019-05-29 09:32:00</td>\n",
       "      <td>AVE</td>\n",
       "      <td>53.40</td>\n",
       "      <td>Turista</td>\n",
       "      <td>Promo</td>\n",
       "      <td>Friday</td>\n",
       "      <td>2.533333</td>\n",
       "      <td>4</td>\n",
       "      <td>19</td>\n",
       "      <td>2019</td>\n",
       "    </tr>\n",
       "    <tr>\n",
       "      <th>2</th>\n",
       "      <td>2</td>\n",
       "      <td>2</td>\n",
       "      <td>2019-04-19 05:31:43</td>\n",
       "      <td>MADRID</td>\n",
       "      <td>SEVILLA</td>\n",
       "      <td>2019-05-29 07:30:00</td>\n",
       "      <td>2019-05-29 09:51:00</td>\n",
       "      <td>AVE</td>\n",
       "      <td>47.30</td>\n",
       "      <td>Turista</td>\n",
       "      <td>Promo</td>\n",
       "      <td>Friday</td>\n",
       "      <td>2.350000</td>\n",
       "      <td>4</td>\n",
       "      <td>19</td>\n",
       "      <td>2019</td>\n",
       "    </tr>\n",
       "    <tr>\n",
       "      <th>3</th>\n",
       "      <td>3</td>\n",
       "      <td>3</td>\n",
       "      <td>2019-04-19 05:31:43</td>\n",
       "      <td>MADRID</td>\n",
       "      <td>SEVILLA</td>\n",
       "      <td>2019-05-29 08:00:00</td>\n",
       "      <td>2019-05-29 10:32:00</td>\n",
       "      <td>AVE</td>\n",
       "      <td>69.40</td>\n",
       "      <td>Preferente</td>\n",
       "      <td>Promo</td>\n",
       "      <td>Friday</td>\n",
       "      <td>2.533333</td>\n",
       "      <td>4</td>\n",
       "      <td>19</td>\n",
       "      <td>2019</td>\n",
       "    </tr>\n",
       "    <tr>\n",
       "      <th>4</th>\n",
       "      <td>5</td>\n",
       "      <td>5</td>\n",
       "      <td>2019-04-19 05:31:43</td>\n",
       "      <td>MADRID</td>\n",
       "      <td>SEVILLA</td>\n",
       "      <td>2019-05-29 09:00:00</td>\n",
       "      <td>2019-05-29 11:38:00</td>\n",
       "      <td>AVE</td>\n",
       "      <td>60.30</td>\n",
       "      <td>Turista</td>\n",
       "      <td>Promo</td>\n",
       "      <td>Friday</td>\n",
       "      <td>2.633333</td>\n",
       "      <td>4</td>\n",
       "      <td>19</td>\n",
       "      <td>2019</td>\n",
       "    </tr>\n",
       "  </tbody>\n",
       "</table>\n",
       "</div>"
      ],
      "text/plain": [
       "   index  Unnamed: 0         insert_date  origin destination  \\\n",
       "0      0           0 2019-04-19 05:31:43  MADRID     SEVILLA   \n",
       "1      1           1 2019-04-19 05:31:43  MADRID     SEVILLA   \n",
       "2      2           2 2019-04-19 05:31:43  MADRID     SEVILLA   \n",
       "3      3           3 2019-04-19 05:31:43  MADRID     SEVILLA   \n",
       "4      5           5 2019-04-19 05:31:43  MADRID     SEVILLA   \n",
       "\n",
       "            start_date             end_date train_type  price train_class  \\\n",
       "0  2019-05-29 06:20:00  2019-05-29 09:16:00    AV City  38.55     Turista   \n",
       "1  2019-05-29 07:00:00  2019-05-29 09:32:00        AVE  53.40     Turista   \n",
       "2  2019-05-29 07:30:00  2019-05-29 09:51:00        AVE  47.30     Turista   \n",
       "3  2019-05-29 08:00:00  2019-05-29 10:32:00        AVE  69.40  Preferente   \n",
       "4  2019-05-29 09:00:00  2019-05-29 11:38:00        AVE  60.30     Turista   \n",
       "\n",
       "    fare     Day  Trip duration  Month  day  year  \n",
       "0  Promo  Friday       2.933333      4   19  2019  \n",
       "1  Promo  Friday       2.533333      4   19  2019  \n",
       "2  Promo  Friday       2.350000      4   19  2019  \n",
       "3  Promo  Friday       2.533333      4   19  2019  \n",
       "4  Promo  Friday       2.633333      4   19  2019  "
      ]
     },
     "execution_count": 17,
     "metadata": {},
     "output_type": "execute_result"
    }
   ],
   "source": [
    "# show the data\n",
    "df.head()"
   ]
  },
  {
   "cell_type": "code",
   "execution_count": 18,
   "id": "359245a3",
   "metadata": {
    "execution": {
     "iopub.execute_input": "2022-07-29T19:38:11.641100Z",
     "iopub.status.busy": "2022-07-29T19:38:11.640681Z",
     "iopub.status.idle": "2022-07-29T19:38:11.660850Z",
     "shell.execute_reply": "2022-07-29T19:38:11.660073Z"
    },
    "papermill": {
     "duration": 0.041795,
     "end_time": "2022-07-29T19:38:11.662990",
     "exception": false,
     "start_time": "2022-07-29T19:38:11.621195",
     "status": "completed"
    },
    "tags": []
   },
   "outputs": [
    {
     "data": {
      "text/plain": [
       "array([2019])"
      ]
     },
     "execution_count": 18,
     "metadata": {},
     "output_type": "execute_result"
    }
   ],
   "source": [
    "df[\"year\"].unique()"
   ]
  },
  {
   "cell_type": "code",
   "execution_count": 19,
   "id": "27a5eb19",
   "metadata": {
    "execution": {
     "iopub.execute_input": "2022-07-29T19:38:11.700849Z",
     "iopub.status.busy": "2022-07-29T19:38:11.700482Z",
     "iopub.status.idle": "2022-07-29T19:38:11.719371Z",
     "shell.execute_reply": "2022-07-29T19:38:11.718649Z"
    },
    "papermill": {
     "duration": 0.039817,
     "end_time": "2022-07-29T19:38:11.721322",
     "exception": false,
     "start_time": "2022-07-29T19:38:11.681505",
     "status": "completed"
    },
    "tags": []
   },
   "outputs": [
    {
     "data": {
      "text/plain": [
       "array([4, 5])"
      ]
     },
     "execution_count": 19,
     "metadata": {},
     "output_type": "execute_result"
    }
   ],
   "source": [
    "df[\"Month\"].unique()"
   ]
  },
  {
   "cell_type": "code",
   "execution_count": 20,
   "id": "b2c6ef1f",
   "metadata": {
    "execution": {
     "iopub.execute_input": "2022-07-29T19:38:11.759713Z",
     "iopub.status.busy": "2022-07-29T19:38:11.758957Z",
     "iopub.status.idle": "2022-07-29T19:38:11.778295Z",
     "shell.execute_reply": "2022-07-29T19:38:11.777557Z"
    },
    "papermill": {
     "duration": 0.040718,
     "end_time": "2022-07-29T19:38:11.780380",
     "exception": false,
     "start_time": "2022-07-29T19:38:11.739662",
     "status": "completed"
    },
    "tags": []
   },
   "outputs": [
    {
     "data": {
      "text/plain": [
       "array([19, 20, 21, 22, 23, 24, 25, 26, 27, 28, 29, 30,  1,  2,  3,  4,  5,\n",
       "        6,  7,  8,  9, 14, 11, 12, 13, 15, 16, 17, 18])"
      ]
     },
     "execution_count": 20,
     "metadata": {},
     "output_type": "execute_result"
    }
   ],
   "source": [
    "df[\"day\"].unique()"
   ]
  },
  {
   "cell_type": "markdown",
   "id": "9b0a8f23",
   "metadata": {
    "papermill": {
     "duration": 0.018802,
     "end_time": "2022-07-29T19:38:11.817862",
     "exception": false,
     "start_time": "2022-07-29T19:38:11.799060",
     "status": "completed"
    },
    "tags": []
   },
   "source": [
    "- from 19/4 to 18/5 year 2019"
   ]
  },
  {
   "cell_type": "code",
   "execution_count": 21,
   "id": "488cd5f3",
   "metadata": {
    "execution": {
     "iopub.execute_input": "2022-07-29T19:38:11.858218Z",
     "iopub.status.busy": "2022-07-29T19:38:11.856960Z",
     "iopub.status.idle": "2022-07-29T19:38:13.490812Z",
     "shell.execute_reply": "2022-07-29T19:38:13.489741Z"
    },
    "papermill": {
     "duration": 1.656851,
     "end_time": "2022-07-29T19:38:13.493547",
     "exception": false,
     "start_time": "2022-07-29T19:38:11.836696",
     "status": "completed"
    },
    "tags": []
   },
   "outputs": [
    {
     "data": {
      "text/plain": [
       "(29, 1)"
      ]
     },
     "execution_count": 21,
     "metadata": {},
     "output_type": "execute_result"
    }
   ],
   "source": [
    "# calculate number of days \n",
    "\n",
    "num_day=df[\"insert_date\"].dt.date.value_counts()\n",
    "num_day=pd.DataFrame(num_day)\n",
    "num_day.shape"
   ]
  },
  {
   "cell_type": "markdown",
   "id": "73ee2b3d",
   "metadata": {
    "papermill": {
     "duration": 0.018279,
     "end_time": "2022-07-29T19:38:13.530481",
     "exception": false,
     "start_time": "2022-07-29T19:38:13.512202",
     "status": "completed"
    },
    "tags": []
   },
   "source": [
    "- 29 Days "
   ]
  },
  {
   "cell_type": "markdown",
   "id": "db743fa3",
   "metadata": {
    "papermill": {
     "duration": 0.018141,
     "end_time": "2022-07-29T19:38:13.566922",
     "exception": false,
     "start_time": "2022-07-29T19:38:13.548781",
     "status": "completed"
    },
    "tags": []
   },
   "source": [
    "# Visualizations"
   ]
  },
  {
   "cell_type": "code",
   "execution_count": 22,
   "id": "ed881ac8",
   "metadata": {
    "execution": {
     "iopub.execute_input": "2022-07-29T19:38:13.605377Z",
     "iopub.status.busy": "2022-07-29T19:38:13.604972Z",
     "iopub.status.idle": "2022-07-29T19:38:16.455609Z",
     "shell.execute_reply": "2022-07-29T19:38:16.454482Z"
    },
    "papermill": {
     "duration": 2.872731,
     "end_time": "2022-07-29T19:38:16.457983",
     "exception": false,
     "start_time": "2022-07-29T19:38:13.585252",
     "status": "completed"
    },
    "tags": []
   },
   "outputs": [
    {
     "name": "stderr",
     "output_type": "stream",
     "text": [
      "/opt/conda/lib/python3.7/site-packages/seaborn/_decorators.py:43: FutureWarning: Pass the following variable as a keyword arg: x. From version 0.12, the only valid positional argument will be `data`, and passing other arguments without an explicit keyword will result in an error or misinterpretation.\n",
      "  FutureWarning\n"
     ]
    },
    {
     "data": {
      "text/plain": [
       "<function matplotlib.pyplot.show(close=None, block=None)>"
      ]
     },
     "execution_count": 22,
     "metadata": {},
     "output_type": "execute_result"
    },
    {
     "data": {
      "image/png": "[encoded data removed]",
      "text/plain": [
       "<Figure size 1440x720 with 1 Axes>"
      ]
     },
     "metadata": {
      "needs_background": "light"
     },
     "output_type": "display_data"
    }
   ],
   "source": [
    "# The people start trip from this stations.\n",
    "\n",
    "plt.figure(figsize=(20,10))\n",
    "sns.countplot(df['origin'])\n",
    "plt.show"
   ]
  },
  {
   "cell_type": "markdown",
   "id": "790c4f4d",
   "metadata": {
    "papermill": {
     "duration": 0.018781,
     "end_time": "2022-07-29T19:38:16.496605",
     "exception": false,
     "start_time": "2022-07-29T19:38:16.477824",
     "status": "completed"
    },
    "tags": []
   },
   "source": [
    "##### The people start trip from this stations.\n",
    "\n",
    "- MADRID 52%\n",
    "- BARCELONA 15%\n",
    "- SEVILLA 15%\n",
    "- VALENCIA 13%\n",
    "- PONFERRADA 5 %"
   ]
  },
  {
   "cell_type": "code",
   "execution_count": 23,
   "id": "c9579410",
   "metadata": {
    "execution": {
     "iopub.execute_input": "2022-07-29T19:38:16.536179Z",
     "iopub.status.busy": "2022-07-29T19:38:16.535771Z",
     "iopub.status.idle": "2022-07-29T19:38:19.369091Z",
     "shell.execute_reply": "2022-07-29T19:38:19.368015Z"
    },
    "papermill": {
     "duration": 2.855747,
     "end_time": "2022-07-29T19:38:19.371369",
     "exception": false,
     "start_time": "2022-07-29T19:38:16.515622",
     "status": "completed"
    },
    "tags": []
   },
   "outputs": [
    {
     "name": "stderr",
     "output_type": "stream",
     "text": [
      "/opt/conda/lib/python3.7/site-packages/seaborn/_decorators.py:43: FutureWarning: Pass the following variable as a keyword arg: x. From version 0.12, the only valid positional argument will be `data`, and passing other arguments without an explicit keyword will result in an error or misinterpretation.\n",
      "  FutureWarning\n"
     ]
    },
    {
     "data": {
      "text/plain": [
       "<function matplotlib.pyplot.show(close=None, block=None)>"
      ]
     },
     "execution_count": 23,
     "metadata": {},
     "output_type": "execute_result"
    },
    {
     "data": {
      "image/png": "[encoded data removed]",
      "text/plain": [
       "<Figure size 1440x720 with 1 Axes>"
      ]
     },
     "metadata": {
      "needs_background": "light"
     },
     "output_type": "display_data"
    }
   ],
   "source": [
    "# The people finish trip from this stations.\n",
    "\n",
    "plt.figure(figsize=(20,10))\n",
    "sns.countplot(df['destination'])\n",
    "plt.show"
   ]
  },
  {
   "cell_type": "markdown",
   "id": "30cd1845",
   "metadata": {
    "papermill": {
     "duration": 0.019103,
     "end_time": "2022-07-29T19:38:19.409889",
     "exception": false,
     "start_time": "2022-07-29T19:38:19.390786",
     "status": "completed"
    },
    "tags": []
   },
   "source": [
    "#### The people finish trip from this stations:\n",
    "\n",
    "- MADRID 47%\n",
    "- BARCELONA 18%\n",
    "- SEVILLA 16%\n",
    "- VALENCIA 15 %\n",
    "- PONFERRADA 4%\n",
    "\n",
    "#### Most people using train insite Madrid"
   ]
  },
  {
   "cell_type": "code",
   "execution_count": 24,
   "id": "3c94e636",
   "metadata": {
    "execution": {
     "iopub.execute_input": "2022-07-29T19:38:19.450606Z",
     "iopub.status.busy": "2022-07-29T19:38:19.449967Z",
     "iopub.status.idle": "2022-07-29T19:38:22.368172Z",
     "shell.execute_reply": "2022-07-29T19:38:22.367071Z"
    },
    "papermill": {
     "duration": 2.941225,
     "end_time": "2022-07-29T19:38:22.370552",
     "exception": false,
     "start_time": "2022-07-29T19:38:19.429327",
     "status": "completed"
    },
    "tags": []
   },
   "outputs": [
    {
     "name": "stderr",
     "output_type": "stream",
     "text": [
      "/opt/conda/lib/python3.7/site-packages/seaborn/_decorators.py:43: FutureWarning: Pass the following variable as a keyword arg: x. From version 0.12, the only valid positional argument will be `data`, and passing other arguments without an explicit keyword will result in an error or misinterpretation.\n",
      "  FutureWarning\n"
     ]
    },
    {
     "data": {
      "text/plain": [
       "<function matplotlib.pyplot.show(close=None, block=None)>"
      ]
     },
     "execution_count": 24,
     "metadata": {},
     "output_type": "execute_result"
    },
    {
     "data": {
      "image/png": "[encoded data removed]",
      "text/plain": [
       "<Figure size 1800x720 with 1 Axes>"
      ]
     },
     "metadata": {
      "needs_background": "light"
     },
     "output_type": "display_data"
    }
   ],
   "source": [
    "# the train type more popular there/ more using\n",
    "\n",
    "plt.figure(figsize=(25,10))\n",
    "sns.countplot(df['train_type'])\n",
    "plt.show"
   ]
  },
  {
   "cell_type": "markdown",
   "id": "1f7bcbdf",
   "metadata": {
    "papermill": {
     "duration": 0.01991,
     "end_time": "2022-07-29T19:38:22.410553",
     "exception": false,
     "start_time": "2022-07-29T19:38:22.390643",
     "status": "completed"
    },
    "tags": []
   },
   "source": [
    "#### The train type more popular there/ more using:\n",
    "\n",
    "- AVE 70%\n",
    "- ALVIA 7%\n",
    "- REGIONAL 5%\n",
    "\n",
    "- Other train less 5 %\n",
    "\n"
   ]
  },
  {
   "cell_type": "code",
   "execution_count": 25,
   "id": "fb5209c5",
   "metadata": {
    "execution": {
     "iopub.execute_input": "2022-07-29T19:38:22.452782Z",
     "iopub.status.busy": "2022-07-29T19:38:22.452379Z",
     "iopub.status.idle": "2022-07-29T19:39:14.731522Z",
     "shell.execute_reply": "2022-07-29T19:39:14.729840Z"
    },
    "papermill": {
     "duration": 52.303621,
     "end_time": "2022-07-29T19:39:14.734365",
     "exception": false,
     "start_time": "2022-07-29T19:38:22.430744",
     "status": "completed"
    },
    "tags": []
   },
   "outputs": [
    {
     "data": {
      "text/plain": [
       "<AxesSubplot:xlabel='train_type', ylabel='price'>"
      ]
     },
     "execution_count": 25,
     "metadata": {},
     "output_type": "execute_result"
    },
    {
     "data": {
      "image/png": "[encoded data removed]",
      "text/plain": [
       "<Figure size 1440x720 with 1 Axes>"
      ]
     },
     "metadata": {
      "needs_background": "light"
     },
     "output_type": "display_data"
    }
   ],
   "source": [
    "# any relationship between train type and price ?\n",
    "\n",
    "plt.figure(figsize=(20,10))\n",
    "sns.lineplot(data=df,x=\"train_type\",y=\"price\")"
   ]
  },
  {
   "cell_type": "markdown",
   "id": "b2929438",
   "metadata": {
    "papermill": {
     "duration": 0.021095,
     "end_time": "2022-07-29T19:39:14.777303",
     "exception": false,
     "start_time": "2022-07-29T19:39:14.756208",
     "status": "completed"
    },
    "tags": []
   },
   "source": [
    "- The train AVE not cheap but more people using this type of train"
   ]
  },
  {
   "cell_type": "code",
   "execution_count": 26,
   "id": "84e223f6",
   "metadata": {
    "execution": {
     "iopub.execute_input": "2022-07-29T19:39:14.822813Z",
     "iopub.status.busy": "2022-07-29T19:39:14.822419Z",
     "iopub.status.idle": "2022-07-29T19:40:05.723288Z",
     "shell.execute_reply": "2022-07-29T19:40:05.722104Z"
    },
    "papermill": {
     "duration": 50.926834,
     "end_time": "2022-07-29T19:40:05.725816",
     "exception": false,
     "start_time": "2022-07-29T19:39:14.798982",
     "status": "completed"
    },
    "tags": []
   },
   "outputs": [
    {
     "data": {
      "text/plain": [
       "<AxesSubplot:xlabel='train_type', ylabel='Trip duration'>"
      ]
     },
     "execution_count": 26,
     "metadata": {},
     "output_type": "execute_result"
    },
    {
     "data": {
      "image/png": "[encoded data removed]",
      "text/plain": [
       "<Figure size 1440x720 with 1 Axes>"
      ]
     },
     "metadata": {
      "needs_background": "light"
     },
     "output_type": "display_data"
    }
   ],
   "source": [
    "# any relationship between train type and Trip duration ?\n",
    "\n",
    "\n",
    "plt.figure(figsize=(20,10))\n",
    "sns.lineplot(data=df,x=\"train_type\",y=\"Trip duration\")"
   ]
  },
  {
   "cell_type": "markdown",
   "id": "26e9be1e",
   "metadata": {
    "papermill": {
     "duration": 0.021694,
     "end_time": "2022-07-29T19:40:05.769813",
     "exception": false,
     "start_time": "2022-07-29T19:40:05.748119",
     "status": "completed"
    },
    "tags": []
   },
   "source": [
    "- the people prefer train AVE because faster "
   ]
  },
  {
   "cell_type": "code",
   "execution_count": 27,
   "id": "7a8ce204",
   "metadata": {
    "execution": {
     "iopub.execute_input": "2022-07-29T19:40:05.817155Z",
     "iopub.status.busy": "2022-07-29T19:40:05.816724Z",
     "iopub.status.idle": "2022-07-29T19:40:08.679510Z",
     "shell.execute_reply": "2022-07-29T19:40:08.678436Z"
    },
    "papermill": {
     "duration": 2.889996,
     "end_time": "2022-07-29T19:40:08.681951",
     "exception": false,
     "start_time": "2022-07-29T19:40:05.791955",
     "status": "completed"
    },
    "tags": []
   },
   "outputs": [
    {
     "name": "stderr",
     "output_type": "stream",
     "text": [
      "/opt/conda/lib/python3.7/site-packages/seaborn/_decorators.py:43: FutureWarning: Pass the following variable as a keyword arg: x. From version 0.12, the only valid positional argument will be `data`, and passing other arguments without an explicit keyword will result in an error or misinterpretation.\n",
      "  FutureWarning\n"
     ]
    },
    {
     "data": {
      "text/plain": [
       "<function matplotlib.pyplot.show(close=None, block=None)>"
      ]
     },
     "execution_count": 27,
     "metadata": {},
     "output_type": "execute_result"
    },
    {
     "data": {
      "image/png": "[encoded data removed]",
      "text/plain": [
       "<Figure size 1440x720 with 1 Axes>"
      ]
     },
     "metadata": {
      "needs_background": "light"
     },
     "output_type": "display_data"
    }
   ],
   "source": [
    "# the train class more popular there/ more using\n",
    "\n",
    "plt.figure(figsize=(20,10))\n",
    "sns.countplot(df['train_class'])\n",
    "plt.show"
   ]
  },
  {
   "cell_type": "markdown",
   "id": "7e355e96",
   "metadata": {
    "papermill": {
     "duration": 0.022349,
     "end_time": "2022-07-29T19:40:08.727077",
     "exception": false,
     "start_time": "2022-07-29T19:40:08.704728",
     "status": "completed"
    },
    "tags": []
   },
   "source": [
    "#### The train class more popular there/ more using :\n",
    "\n",
    "- Turista 75%\n",
    "- Preferente 10%\n",
    "- Turista Plus 8%\n",
    "- Turista con enlace 7%\n",
    "- Cama Turista 0\n",
    "- Cama G. Clase 0\n"
   ]
  },
  {
   "cell_type": "code",
   "execution_count": 28,
   "id": "bc439828",
   "metadata": {
    "execution": {
     "iopub.execute_input": "2022-07-29T19:40:08.774925Z",
     "iopub.status.busy": "2022-07-29T19:40:08.773958Z",
     "iopub.status.idle": "2022-07-29T19:41:02.432303Z",
     "shell.execute_reply": "2022-07-29T19:41:02.431219Z"
    },
    "papermill": {
     "duration": 53.68553,
     "end_time": "2022-07-29T19:41:02.435084",
     "exception": false,
     "start_time": "2022-07-29T19:40:08.749554",
     "status": "completed"
    },
    "tags": []
   },
   "outputs": [
    {
     "data": {
      "text/plain": [
       "<AxesSubplot:xlabel='train_class', ylabel='price'>"
      ]
     },
     "execution_count": 28,
     "metadata": {},
     "output_type": "execute_result"
    },
    {
     "data": {
      "image/png": "[encoded data removed]",
      "text/plain": [
       "<Figure size 1440x720 with 1 Axes>"
      ]
     },
     "metadata": {
      "needs_background": "light"
     },
     "output_type": "display_data"
    }
   ],
   "source": [
    "# any relationship between train class  and price ?\n",
    "\n",
    "\n",
    "plt.figure(figsize=(20,10))\n",
    "sns.lineplot(data=df,x=\"train_class\",y=\"price\")"
   ]
  },
  {
   "cell_type": "code",
   "execution_count": 29,
   "id": "45c5d57f",
   "metadata": {
    "execution": {
     "iopub.execute_input": "2022-07-29T19:41:02.484546Z",
     "iopub.status.busy": "2022-07-29T19:41:02.484161Z",
     "iopub.status.idle": "2022-07-29T19:41:57.057818Z",
     "shell.execute_reply": "2022-07-29T19:41:57.056550Z"
    },
    "papermill": {
     "duration": 54.601736,
     "end_time": "2022-07-29T19:41:57.060717",
     "exception": false,
     "start_time": "2022-07-29T19:41:02.458981",
     "status": "completed"
    },
    "tags": []
   },
   "outputs": [
    {
     "data": {
      "text/plain": [
       "<AxesSubplot:xlabel='train_class', ylabel='Trip duration'>"
      ]
     },
     "execution_count": 29,
     "metadata": {},
     "output_type": "execute_result"
    },
    {
     "data": {
      "image/png": "[encoded data removed]",
      "text/plain": [
       "<Figure size 1440x720 with 1 Axes>"
      ]
     },
     "metadata": {
      "needs_background": "light"
     },
     "output_type": "display_data"
    }
   ],
   "source": [
    "# any relationship between train class  and Trip duration ?\n",
    "\n",
    "plt.figure(figsize=(20,10))\n",
    "sns.lineplot(data=df,x=\"train_class\",y=\"Trip duration\")"
   ]
  },
  {
   "cell_type": "markdown",
   "id": "0b078ed0",
   "metadata": {
    "papermill": {
     "duration": 0.025816,
     "end_time": "2022-07-29T19:41:57.113119",
     "exception": false,
     "start_time": "2022-07-29T19:41:57.087303",
     "status": "completed"
    },
    "tags": []
   },
   "source": [
    "- The people prefer train class Turista because faster and cheaper"
   ]
  },
  {
   "cell_type": "code",
   "execution_count": 30,
   "id": "a9aedc4a",
   "metadata": {
    "execution": {
     "iopub.execute_input": "2022-07-29T19:41:57.167398Z",
     "iopub.status.busy": "2022-07-29T19:41:57.167013Z",
     "iopub.status.idle": "2022-07-29T19:41:59.948457Z",
     "shell.execute_reply": "2022-07-29T19:41:59.947317Z"
    },
    "papermill": {
     "duration": 2.811405,
     "end_time": "2022-07-29T19:41:59.950720",
     "exception": false,
     "start_time": "2022-07-29T19:41:57.139315",
     "status": "completed"
    },
    "tags": []
   },
   "outputs": [
    {
     "name": "stderr",
     "output_type": "stream",
     "text": [
      "/opt/conda/lib/python3.7/site-packages/seaborn/_decorators.py:43: FutureWarning: Pass the following variable as a keyword arg: x. From version 0.12, the only valid positional argument will be `data`, and passing other arguments without an explicit keyword will result in an error or misinterpretation.\n",
      "  FutureWarning\n"
     ]
    },
    {
     "data": {
      "text/plain": [
       "<function matplotlib.pyplot.show(close=None, block=None)>"
      ]
     },
     "execution_count": 30,
     "metadata": {},
     "output_type": "execute_result"
    },
    {
     "data": {
      "image/png": "[encoded data removed]",
      "text/plain": [
       "<Figure size 1440x720 with 1 Axes>"
      ]
     },
     "metadata": {
      "needs_background": "light"
     },
     "output_type": "display_data"
    }
   ],
   "source": [
    "# the fare more popular there/ more using\n",
    "\n",
    "plt.figure(figsize=(20,10))\n",
    "sns.countplot(df['fare'])\n",
    "plt.show"
   ]
  },
  {
   "cell_type": "markdown",
   "id": "86f6ef73",
   "metadata": {
    "papermill": {
     "duration": 0.026384,
     "end_time": "2022-07-29T19:42:00.003845",
     "exception": false,
     "start_time": "2022-07-29T19:41:59.977461",
     "status": "completed"
    },
    "tags": []
   },
   "source": [
    "#### The fare more popular there/ more using :\n",
    "\n",
    "- Promo 68%\n",
    "- Flexible 23%\n",
    "- Adulto ida 7%\n",
    "- Promo 2%\n",
    "- Individual-Flexible 0\n",
    "- Mesa 0\n",
    "- Grupos Ida 0"
   ]
  },
  {
   "cell_type": "code",
   "execution_count": 31,
   "id": "110e1691",
   "metadata": {
    "execution": {
     "iopub.execute_input": "2022-07-29T19:42:00.059508Z",
     "iopub.status.busy": "2022-07-29T19:42:00.058593Z",
     "iopub.status.idle": "2022-07-29T19:42:51.825564Z",
     "shell.execute_reply": "2022-07-29T19:42:51.824117Z"
    },
    "papermill": {
     "duration": 51.798252,
     "end_time": "2022-07-29T19:42:51.828699",
     "exception": false,
     "start_time": "2022-07-29T19:42:00.030447",
     "status": "completed"
    },
    "tags": []
   },
   "outputs": [
    {
     "data": {
      "text/plain": [
       "<AxesSubplot:xlabel='fare', ylabel='price'>"
      ]
     },
     "execution_count": 31,
     "metadata": {},
     "output_type": "execute_result"
    },
    {
     "data": {
      "image/png": "[encoded data removed]",
      "text/plain": [
       "<Figure size 1440x720 with 1 Axes>"
      ]
     },
     "metadata": {
      "needs_background": "light"
     },
     "output_type": "display_data"
    }
   ],
   "source": [
    "# any relationship between fare  and price ?\n",
    "\n",
    "\n",
    "plt.figure(figsize=(20,10))\n",
    "sns.lineplot(data=df,x=\"fare\",y=\"price\")"
   ]
  },
  {
   "cell_type": "code",
   "execution_count": 32,
   "id": "9a0d64e3",
   "metadata": {
    "execution": {
     "iopub.execute_input": "2022-07-29T19:42:51.889868Z",
     "iopub.status.busy": "2022-07-29T19:42:51.889175Z",
     "iopub.status.idle": "2022-07-29T19:43:41.979937Z",
     "shell.execute_reply": "2022-07-29T19:43:41.978671Z"
    },
    "papermill": {
     "duration": 50.123615,
     "end_time": "2022-07-29T19:43:41.982716",
     "exception": false,
     "start_time": "2022-07-29T19:42:51.859101",
     "status": "completed"
    },
    "tags": []
   },
   "outputs": [
    {
     "data": {
      "text/plain": [
       "<AxesSubplot:xlabel='fare', ylabel='Trip duration'>"
      ]
     },
     "execution_count": 32,
     "metadata": {},
     "output_type": "execute_result"
    },
    {
     "data": {
      "image/png": "[encoded data removed]",
      "text/plain": [
       "<Figure size 1440x720 with 1 Axes>"
      ]
     },
     "metadata": {
      "needs_background": "light"
     },
     "output_type": "display_data"
    }
   ],
   "source": [
    " # any relationship between fare  and Trip duration ?\n",
    "    \n",
    "plt.figure(figsize=(20,10))\n",
    "sns.lineplot(data=df,x=\"fare\",y=\"Trip duration\")"
   ]
  },
  {
   "cell_type": "markdown",
   "id": "6848243e",
   "metadata": {
    "papermill": {
     "duration": 0.029416,
     "end_time": "2022-07-29T19:43:42.043244",
     "exception": false,
     "start_time": "2022-07-29T19:43:42.013828",
     "status": "completed"
    },
    "tags": []
   },
   "source": [
    "- The people prefer fare - Promo-  because faster and cheaper around 60 $ and the time 2:30"
   ]
  },
  {
   "cell_type": "code",
   "execution_count": 33,
   "id": "be275071",
   "metadata": {
    "execution": {
     "iopub.execute_input": "2022-07-29T19:43:42.112980Z",
     "iopub.status.busy": "2022-07-29T19:43:42.112251Z",
     "iopub.status.idle": "2022-07-29T19:43:44.958734Z",
     "shell.execute_reply": "2022-07-29T19:43:44.957606Z"
    },
    "papermill": {
     "duration": 2.88583,
     "end_time": "2022-07-29T19:43:44.961112",
     "exception": false,
     "start_time": "2022-07-29T19:43:42.075282",
     "status": "completed"
    },
    "tags": []
   },
   "outputs": [
    {
     "name": "stderr",
     "output_type": "stream",
     "text": [
      "/opt/conda/lib/python3.7/site-packages/seaborn/_decorators.py:43: FutureWarning: Pass the following variable as a keyword arg: x. From version 0.12, the only valid positional argument will be `data`, and passing other arguments without an explicit keyword will result in an error or misinterpretation.\n",
      "  FutureWarning\n"
     ]
    },
    {
     "data": {
      "text/plain": [
       "<function matplotlib.pyplot.show(close=None, block=None)>"
      ]
     },
     "execution_count": 33,
     "metadata": {},
     "output_type": "execute_result"
    },
    {
     "data": {
      "image/png": "[encoded data removed]",
      "text/plain": [
       "<Figure size 1440x720 with 1 Axes>"
      ]
     },
     "metadata": {
      "needs_background": "light"
     },
     "output_type": "display_data"
    }
   ],
   "source": [
    "# the more popular Days the people more using train\n",
    "\n",
    "plt.figure(figsize=(20,10))\n",
    "sns.countplot(df['Day'])\n",
    "plt.show"
   ]
  },
  {
   "cell_type": "markdown",
   "id": "64b1c134",
   "metadata": {
    "papermill": {
     "duration": 0.030264,
     "end_time": "2022-07-29T19:43:45.021111",
     "exception": false,
     "start_time": "2022-07-29T19:43:44.990847",
     "status": "completed"
    },
    "tags": []
   },
   "source": [
    "- Monday 17 %\n",
    "- Tuesday 15%\n",
    "- Wednesday 14 %\n",
    "- Thursday 12%\n",
    "- Friday 13 %\n",
    "- Saturday 13 %\n",
    "- Sunday 16 %\n"
   ]
  },
  {
   "cell_type": "code",
   "execution_count": 34,
   "id": "c59a1531",
   "metadata": {
    "execution": {
     "iopub.execute_input": "2022-07-29T19:43:45.083436Z",
     "iopub.status.busy": "2022-07-29T19:43:45.082773Z",
     "iopub.status.idle": "2022-07-29T19:44:47.093347Z",
     "shell.execute_reply": "2022-07-29T19:44:47.092505Z"
    },
    "papermill": {
     "duration": 62.077721,
     "end_time": "2022-07-29T19:44:47.128937",
     "exception": false,
     "start_time": "2022-07-29T19:43:45.051216",
     "status": "completed"
    },
    "tags": []
   },
   "outputs": [
    {
     "data": {
      "text/plain": [
       "<AxesSubplot:xlabel='Trip duration', ylabel='price'>"
      ]
     },
     "execution_count": 34,
     "metadata": {},
     "output_type": "execute_result"
    },
    {
     "data": {
      "image/png": "[encoded data removed]",
      "text/plain": [
       "<Figure size 1224x504 with 1 Axes>"
      ]
     },
     "metadata": {
      "needs_background": "light"
     },
     "output_type": "display_data"
    }
   ],
   "source": [
    "# show graph in any relationship between time and price\n",
    "\n",
    "plt.figure(figsize=(17,7))\n",
    "sns.scatterplot(data=df,x=\"Trip duration\",y=\"price\",hue=\"train_type\")"
   ]
  },
  {
   "cell_type": "markdown",
   "id": "31d34676",
   "metadata": {
    "papermill": {
     "duration": 0.032149,
     "end_time": "2022-07-29T19:44:47.193336",
     "exception": false,
     "start_time": "2022-07-29T19:44:47.161187",
     "status": "completed"
    },
    "tags": []
   },
   "source": [
    "# Make group by and fitter"
   ]
  },
  {
   "cell_type": "code",
   "execution_count": 35,
   "id": "4c2bd720",
   "metadata": {
    "execution": {
     "iopub.execute_input": "2022-07-29T19:44:47.259674Z",
     "iopub.status.busy": "2022-07-29T19:44:47.258984Z",
     "iopub.status.idle": "2022-07-29T19:44:47.864927Z",
     "shell.execute_reply": "2022-07-29T19:44:47.863858Z"
    },
    "papermill": {
     "duration": 0.641618,
     "end_time": "2022-07-29T19:44:47.867282",
     "exception": false,
     "start_time": "2022-07-29T19:44:47.225664",
     "status": "completed"
    },
    "tags": []
   },
   "outputs": [
    {
     "data": {
      "text/html": [
       "<div>\n",
       "<style scoped>\n",
       "    .dataframe tbody tr th:only-of-type {\n",
       "        vertical-align: middle;\n",
       "    }\n",
       "\n",
       "    .dataframe tbody tr th {\n",
       "        vertical-align: top;\n",
       "    }\n",
       "\n",
       "    .dataframe thead th {\n",
       "        text-align: right;\n",
       "    }\n",
       "</style>\n",
       "<table border=\"1\" class=\"dataframe\">\n",
       "  <thead>\n",
       "    <tr style=\"text-align: right;\">\n",
       "      <th></th>\n",
       "      <th>index</th>\n",
       "      <th>Unnamed: 0</th>\n",
       "      <th>insert_date</th>\n",
       "      <th>origin</th>\n",
       "      <th>destination</th>\n",
       "      <th>start_date</th>\n",
       "      <th>end_date</th>\n",
       "      <th>train_type</th>\n",
       "      <th>price</th>\n",
       "      <th>train_class</th>\n",
       "      <th>fare</th>\n",
       "      <th>Day</th>\n",
       "      <th>Trip duration</th>\n",
       "      <th>Month</th>\n",
       "      <th>day</th>\n",
       "      <th>year</th>\n",
       "    </tr>\n",
       "  </thead>\n",
       "  <tbody>\n",
       "    <tr>\n",
       "      <th>0</th>\n",
       "      <td>0</td>\n",
       "      <td>0</td>\n",
       "      <td>2019-04-19 05:31:43</td>\n",
       "      <td>MADRID</td>\n",
       "      <td>SEVILLA</td>\n",
       "      <td>2019-05-29 06:20:00</td>\n",
       "      <td>2019-05-29 09:16:00</td>\n",
       "      <td>AV City</td>\n",
       "      <td>38.55</td>\n",
       "      <td>Turista</td>\n",
       "      <td>Promo</td>\n",
       "      <td>Friday</td>\n",
       "      <td>2.933333</td>\n",
       "      <td>4</td>\n",
       "      <td>19</td>\n",
       "      <td>2019</td>\n",
       "    </tr>\n",
       "    <tr>\n",
       "      <th>1</th>\n",
       "      <td>1</td>\n",
       "      <td>1</td>\n",
       "      <td>2019-04-19 05:31:43</td>\n",
       "      <td>MADRID</td>\n",
       "      <td>SEVILLA</td>\n",
       "      <td>2019-05-29 07:00:00</td>\n",
       "      <td>2019-05-29 09:32:00</td>\n",
       "      <td>AVE</td>\n",
       "      <td>53.40</td>\n",
       "      <td>Turista</td>\n",
       "      <td>Promo</td>\n",
       "      <td>Friday</td>\n",
       "      <td>2.533333</td>\n",
       "      <td>4</td>\n",
       "      <td>19</td>\n",
       "      <td>2019</td>\n",
       "    </tr>\n",
       "    <tr>\n",
       "      <th>2</th>\n",
       "      <td>2</td>\n",
       "      <td>2</td>\n",
       "      <td>2019-04-19 05:31:43</td>\n",
       "      <td>MADRID</td>\n",
       "      <td>SEVILLA</td>\n",
       "      <td>2019-05-29 07:30:00</td>\n",
       "      <td>2019-05-29 09:51:00</td>\n",
       "      <td>AVE</td>\n",
       "      <td>47.30</td>\n",
       "      <td>Turista</td>\n",
       "      <td>Promo</td>\n",
       "      <td>Friday</td>\n",
       "      <td>2.350000</td>\n",
       "      <td>4</td>\n",
       "      <td>19</td>\n",
       "      <td>2019</td>\n",
       "    </tr>\n",
       "    <tr>\n",
       "      <th>3</th>\n",
       "      <td>3</td>\n",
       "      <td>3</td>\n",
       "      <td>2019-04-19 05:31:43</td>\n",
       "      <td>MADRID</td>\n",
       "      <td>SEVILLA</td>\n",
       "      <td>2019-05-29 08:00:00</td>\n",
       "      <td>2019-05-29 10:32:00</td>\n",
       "      <td>AVE</td>\n",
       "      <td>69.40</td>\n",
       "      <td>Preferente</td>\n",
       "      <td>Promo</td>\n",
       "      <td>Friday</td>\n",
       "      <td>2.533333</td>\n",
       "      <td>4</td>\n",
       "      <td>19</td>\n",
       "      <td>2019</td>\n",
       "    </tr>\n",
       "    <tr>\n",
       "      <th>4</th>\n",
       "      <td>5</td>\n",
       "      <td>5</td>\n",
       "      <td>2019-04-19 05:31:43</td>\n",
       "      <td>MADRID</td>\n",
       "      <td>SEVILLA</td>\n",
       "      <td>2019-05-29 09:00:00</td>\n",
       "      <td>2019-05-29 11:38:00</td>\n",
       "      <td>AVE</td>\n",
       "      <td>60.30</td>\n",
       "      <td>Turista</td>\n",
       "      <td>Promo</td>\n",
       "      <td>Friday</td>\n",
       "      <td>2.633333</td>\n",
       "      <td>4</td>\n",
       "      <td>19</td>\n",
       "      <td>2019</td>\n",
       "    </tr>\n",
       "  </tbody>\n",
       "</table>\n",
       "</div>"
      ],
      "text/plain": [
       "   index  Unnamed: 0         insert_date  origin destination  \\\n",
       "0      0           0 2019-04-19 05:31:43  MADRID     SEVILLA   \n",
       "1      1           1 2019-04-19 05:31:43  MADRID     SEVILLA   \n",
       "2      2           2 2019-04-19 05:31:43  MADRID     SEVILLA   \n",
       "3      3           3 2019-04-19 05:31:43  MADRID     SEVILLA   \n",
       "4      5           5 2019-04-19 05:31:43  MADRID     SEVILLA   \n",
       "\n",
       "            start_date             end_date train_type  price train_class  \\\n",
       "0  2019-05-29 06:20:00  2019-05-29 09:16:00    AV City  38.55     Turista   \n",
       "1  2019-05-29 07:00:00  2019-05-29 09:32:00        AVE  53.40     Turista   \n",
       "2  2019-05-29 07:30:00  2019-05-29 09:51:00        AVE  47.30     Turista   \n",
       "3  2019-05-29 08:00:00  2019-05-29 10:32:00        AVE  69.40  Preferente   \n",
       "4  2019-05-29 09:00:00  2019-05-29 11:38:00        AVE  60.30     Turista   \n",
       "\n",
       "    fare     Day  Trip duration  Month  day  year  \n",
       "0  Promo  Friday       2.933333      4   19  2019  \n",
       "1  Promo  Friday       2.533333      4   19  2019  \n",
       "2  Promo  Friday       2.350000      4   19  2019  \n",
       "3  Promo  Friday       2.533333      4   19  2019  \n",
       "4  Promo  Friday       2.633333      4   19  2019  "
      ]
     },
     "execution_count": 35,
     "metadata": {},
     "output_type": "execute_result"
    }
   ],
   "source": [
    "# make filter origin from Madrid to other destination\n",
    "\n",
    "df_M=df[(df[\"origin\"]==\"MADRID\")]\n",
    "df_M.head()"
   ]
  },
  {
   "cell_type": "code",
   "execution_count": 36,
   "id": "9b68b03b",
   "metadata": {
    "execution": {
     "iopub.execute_input": "2022-07-29T19:44:47.933521Z",
     "iopub.status.busy": "2022-07-29T19:44:47.933103Z",
     "iopub.status.idle": "2022-07-29T19:44:48.173179Z",
     "shell.execute_reply": "2022-07-29T19:44:48.171591Z"
    },
    "papermill": {
     "duration": 0.276613,
     "end_time": "2022-07-29T19:44:48.175978",
     "exception": false,
     "start_time": "2022-07-29T19:44:47.899365",
     "status": "completed"
    },
    "tags": []
   },
   "outputs": [
    {
     "name": "stderr",
     "output_type": "stream",
     "text": [
      "/opt/conda/lib/python3.7/site-packages/ipykernel_launcher.py:3: FutureWarning: Indexing with multiple keys (implicitly converted to a tuple of keys) will be deprecated, use a list instead.\n",
      "  This is separate from the ipykernel package so we can avoid doing imports until\n"
     ]
    },
    {
     "data": {
      "text/html": [
       "<div>\n",
       "<style scoped>\n",
       "    .dataframe tbody tr th:only-of-type {\n",
       "        vertical-align: middle;\n",
       "    }\n",
       "\n",
       "    .dataframe tbody tr th {\n",
       "        vertical-align: top;\n",
       "    }\n",
       "\n",
       "    .dataframe thead th {\n",
       "        text-align: right;\n",
       "    }\n",
       "</style>\n",
       "<table border=\"1\" class=\"dataframe\">\n",
       "  <thead>\n",
       "    <tr style=\"text-align: right;\">\n",
       "      <th></th>\n",
       "      <th>destination</th>\n",
       "      <th>train_type</th>\n",
       "      <th>Trip duration</th>\n",
       "      <th>price</th>\n",
       "    </tr>\n",
       "  </thead>\n",
       "  <tbody>\n",
       "    <tr>\n",
       "      <th>0</th>\n",
       "      <td>BARCELONA</td>\n",
       "      <td>AVE</td>\n",
       "      <td>2.813165</td>\n",
       "      <td>87.018677</td>\n",
       "    </tr>\n",
       "    <tr>\n",
       "      <th>1</th>\n",
       "      <td>BARCELONA</td>\n",
       "      <td>AVE-TGV</td>\n",
       "      <td>2.983333</td>\n",
       "      <td>87.228629</td>\n",
       "    </tr>\n",
       "    <tr>\n",
       "      <th>2</th>\n",
       "      <td>BARCELONA</td>\n",
       "      <td>R. EXPRES</td>\n",
       "      <td>9.366667</td>\n",
       "      <td>43.250000</td>\n",
       "    </tr>\n",
       "    <tr>\n",
       "      <th>3</th>\n",
       "      <td>PONFERRADA</td>\n",
       "      <td>ALVIA</td>\n",
       "      <td>4.050000</td>\n",
       "      <td>46.414830</td>\n",
       "    </tr>\n",
       "    <tr>\n",
       "      <th>4</th>\n",
       "      <td>PONFERRADA</td>\n",
       "      <td>AVE-LD</td>\n",
       "      <td>4.200000</td>\n",
       "      <td>43.222886</td>\n",
       "    </tr>\n",
       "    <tr>\n",
       "      <th>5</th>\n",
       "      <td>PONFERRADA</td>\n",
       "      <td>AVE-MD</td>\n",
       "      <td>4.092260</td>\n",
       "      <td>47.976397</td>\n",
       "    </tr>\n",
       "    <tr>\n",
       "      <th>6</th>\n",
       "      <td>PONFERRADA</td>\n",
       "      <td>LD</td>\n",
       "      <td>4.200000</td>\n",
       "      <td>46.836863</td>\n",
       "    </tr>\n",
       "    <tr>\n",
       "      <th>7</th>\n",
       "      <td>PONFERRADA</td>\n",
       "      <td>LD-MD</td>\n",
       "      <td>5.936954</td>\n",
       "      <td>38.805386</td>\n",
       "    </tr>\n",
       "    <tr>\n",
       "      <th>8</th>\n",
       "      <td>PONFERRADA</td>\n",
       "      <td>TRENHOTEL</td>\n",
       "      <td>6.283333</td>\n",
       "      <td>49.252821</td>\n",
       "    </tr>\n",
       "    <tr>\n",
       "      <th>9</th>\n",
       "      <td>SEVILLA</td>\n",
       "      <td>ALVIA</td>\n",
       "      <td>2.586920</td>\n",
       "      <td>66.442910</td>\n",
       "    </tr>\n",
       "    <tr>\n",
       "      <th>10</th>\n",
       "      <td>SEVILLA</td>\n",
       "      <td>AV City</td>\n",
       "      <td>2.837595</td>\n",
       "      <td>48.474240</td>\n",
       "    </tr>\n",
       "    <tr>\n",
       "      <th>11</th>\n",
       "      <td>SEVILLA</td>\n",
       "      <td>AVE</td>\n",
       "      <td>2.540380</td>\n",
       "      <td>65.774395</td>\n",
       "    </tr>\n",
       "    <tr>\n",
       "      <th>12</th>\n",
       "      <td>SEVILLA</td>\n",
       "      <td>INTERCITY</td>\n",
       "      <td>2.700000</td>\n",
       "      <td>62.200000</td>\n",
       "    </tr>\n",
       "    <tr>\n",
       "      <th>13</th>\n",
       "      <td>SEVILLA</td>\n",
       "      <td>MD-LD</td>\n",
       "      <td>7.683333</td>\n",
       "      <td>35.415733</td>\n",
       "    </tr>\n",
       "    <tr>\n",
       "      <th>14</th>\n",
       "      <td>VALENCIA</td>\n",
       "      <td>ALVIA</td>\n",
       "      <td>2.083333</td>\n",
       "      <td>52.810288</td>\n",
       "    </tr>\n",
       "    <tr>\n",
       "      <th>15</th>\n",
       "      <td>VALENCIA</td>\n",
       "      <td>AVE</td>\n",
       "      <td>1.749687</td>\n",
       "      <td>45.826841</td>\n",
       "    </tr>\n",
       "    <tr>\n",
       "      <th>16</th>\n",
       "      <td>VALENCIA</td>\n",
       "      <td>AVE-LD</td>\n",
       "      <td>5.051420</td>\n",
       "      <td>49.106247</td>\n",
       "    </tr>\n",
       "    <tr>\n",
       "      <th>17</th>\n",
       "      <td>VALENCIA</td>\n",
       "      <td>AVE-MD</td>\n",
       "      <td>7.016667</td>\n",
       "      <td>67.755111</td>\n",
       "    </tr>\n",
       "    <tr>\n",
       "      <th>18</th>\n",
       "      <td>VALENCIA</td>\n",
       "      <td>INTERCITY</td>\n",
       "      <td>2.977457</td>\n",
       "      <td>33.174264</td>\n",
       "    </tr>\n",
       "    <tr>\n",
       "      <th>19</th>\n",
       "      <td>VALENCIA</td>\n",
       "      <td>REGIONAL</td>\n",
       "      <td>6.603475</td>\n",
       "      <td>28.350000</td>\n",
       "    </tr>\n",
       "  </tbody>\n",
       "</table>\n",
       "</div>"
      ],
      "text/plain": [
       "   destination train_type  Trip duration      price\n",
       "0    BARCELONA        AVE       2.813165  87.018677\n",
       "1    BARCELONA    AVE-TGV       2.983333  87.228629\n",
       "2    BARCELONA  R. EXPRES       9.366667  43.250000\n",
       "3   PONFERRADA      ALVIA       4.050000  46.414830\n",
       "4   PONFERRADA     AVE-LD       4.200000  43.222886\n",
       "5   PONFERRADA     AVE-MD       4.092260  47.976397\n",
       "6   PONFERRADA         LD       4.200000  46.836863\n",
       "7   PONFERRADA      LD-MD       5.936954  38.805386\n",
       "8   PONFERRADA  TRENHOTEL       6.283333  49.252821\n",
       "9      SEVILLA      ALVIA       2.586920  66.442910\n",
       "10     SEVILLA    AV City       2.837595  48.474240\n",
       "11     SEVILLA        AVE       2.540380  65.774395\n",
       "12     SEVILLA  INTERCITY       2.700000  62.200000\n",
       "13     SEVILLA      MD-LD       7.683333  35.415733\n",
       "14    VALENCIA      ALVIA       2.083333  52.810288\n",
       "15    VALENCIA        AVE       1.749687  45.826841\n",
       "16    VALENCIA     AVE-LD       5.051420  49.106247\n",
       "17    VALENCIA     AVE-MD       7.016667  67.755111\n",
       "18    VALENCIA  INTERCITY       2.977457  33.174264\n",
       "19    VALENCIA   REGIONAL       6.603475  28.350000"
      ]
     },
     "execution_count": 36,
     "metadata": {},
     "output_type": "execute_result"
    }
   ],
   "source": [
    "# make group by \n",
    "\n",
    "M=df_M.groupby([\"destination\",\"train_type\"],as_index=False)[\"Trip duration\",\"price\"].mean()\n",
    "M"
   ]
  },
  {
   "cell_type": "code",
   "execution_count": 37,
   "id": "4e3c0819",
   "metadata": {
    "execution": {
     "iopub.execute_input": "2022-07-29T19:44:48.244355Z",
     "iopub.status.busy": "2022-07-29T19:44:48.243303Z",
     "iopub.status.idle": "2022-07-29T19:44:49.346791Z",
     "shell.execute_reply": "2022-07-29T19:44:49.345854Z"
    },
    "papermill": {
     "duration": 1.140197,
     "end_time": "2022-07-29T19:44:49.349302",
     "exception": false,
     "start_time": "2022-07-29T19:44:48.209105",
     "status": "completed"
    },
    "tags": []
   },
   "outputs": [
    {
     "data": {
      "text/html": [
       "        <script type=\"text/javascript\">\n",
       "        window.PlotlyConfig = {MathJaxConfig: 'local'};\n",
       "        if (window.MathJax && window.MathJax.Hub && window.MathJax.Hub.Config) {window.MathJax.Hub.Config({SVG: {font: \"STIX-Web\"}});}\n",
       "        if (typeof require !== 'undefined') {\n",
       "        require.undef(\"plotly\");\n",
       "        requirejs.config({\n",
       "            paths: {\n",
       "                'plotly': ['https://cdn.plot.ly/plotly-2.12.1.min']\n",
       "            }\n",
       "        });\n",
       "        require(['plotly'], function(Plotly) {\n",
       "            window._Plotly = Plotly;\n",
       "        });\n",
       "        }\n",
       "        </script>\n",
       "        "
      ]
     },
     "metadata": {},
     "output_type": "display_data"
    },
    {
     "data": {
      "text/html": [
       "<div>                            <div id=\"440922af-ad84-4ad3-9ec0-9bd945ef3ed1\" class=\"plotly-graph-div\" style=\"height:525px; width:100%;\"></div>            <script type=\"text/javascript\">                require([\"plotly\"], function(Plotly) {                    window.PLOTLYENV=window.PLOTLYENV || {};                                    if (document.getElementById(\"440922af-ad84-4ad3-9ec0-9bd945ef3ed1\")) {                    Plotly.newPlot(                        \"440922af-ad84-4ad3-9ec0-9bd945ef3ed1\",                        [{\"hovertemplate\":\"train_type=AVE<br>destination=BARCELONA<br>Trip duration=%{x}<br>price=%{y}<extra></extra>\",\"legendgroup\":\"AVE\",\"marker\":{\"color\":\"#636efa\",\"symbol\":\"circle\"},\"mode\":\"markers\",\"name\":\"AVE\",\"orientation\":\"v\",\"showlegend\":true,\"x\":[2.813164571763121],\"xaxis\":\"x\",\"y\":[87.01867687461979],\"yaxis\":\"y\",\"type\":\"scatter\"},{\"hovertemplate\":\"train_type=AVE-TGV<br>destination=BARCELONA<br>Trip duration=%{x}<br>price=%{y}<extra></extra>\",\"legendgroup\":\"AVE-TGV\",\"marker\":{\"color\":\"#EF553B\",\"symbol\":\"circle\"},\"mode\":\"markers\",\"name\":\"AVE-TGV\",\"orientation\":\"v\",\"showlegend\":true,\"x\":[2.9833333333333334],\"xaxis\":\"x\",\"y\":[87.22862851847562],\"yaxis\":\"y\",\"type\":\"scatter\"},{\"hovertemplate\":\"train_type=R. EXPRES<br>destination=BARCELONA<br>Trip duration=%{x}<br>price=%{y}<extra></extra>\",\"legendgroup\":\"R. EXPRES\",\"marker\":{\"color\":\"#00cc96\",\"symbol\":\"circle\"},\"mode\":\"markers\",\"name\":\"R. EXPRES\",\"orientation\":\"v\",\"showlegend\":true,\"x\":[9.366666666666667],\"xaxis\":\"x\",\"y\":[43.25],\"yaxis\":\"y\",\"type\":\"scatter\"}],                        {\"template\":{\"data\":{\"histogram2dcontour\":[{\"type\":\"histogram2dcontour\",\"colorbar\":{\"outlinewidth\":0,\"ticks\":\"\"},\"colorscale\":[[0.0,\"#0d0887\"],[0.1111111111111111,\"#46039f\"],[0.2222222222222222,\"#7201a8\"],[0.3333333333333333,\"#9c179e\"],[0.4444444444444444,\"#bd3786\"],[0.5555555555555556,\"#d8576b\"],[0.6666666666666666,\"#ed7953\"],[0.7777777777777778,\"#fb9f3a\"],[0.8888888888888888,\"#fdca26\"],[1.0,\"#f0f921\"]]}],\"choropleth\":[{\"type\":\"choropleth\",\"colorbar\":{\"outlinewidth\":0,\"ticks\":\"\"}}],\"histogram2d\":[{\"type\":\"histogram2d\",\"colorbar\":{\"outlinewidth\":0,\"ticks\":\"\"},\"colorscale\":[[0.0,\"#0d0887\"],[0.1111111111111111,\"#46039f\"],[0.2222222222222222,\"#7201a8\"],[0.3333333333333333,\"#9c179e\"],[0.4444444444444444,\"#bd3786\"],[0.5555555555555556,\"#d8576b\"],[0.6666666666666666,\"#ed7953\"],[0.7777777777777778,\"#fb9f3a\"],[0.8888888888888888,\"#fdca26\"],[1.0,\"#f0f921\"]]}],\"heatmap\":[{\"type\":\"heatmap\",\"colorbar\":{\"outlinewidth\":0,\"ticks\":\"\"},\"colorscale\":[[0.0,\"#0d0887\"],[0.1111111111111111,\"#46039f\"],[0.2222222222222222,\"#7201a8\"],[0.3333333333333333,\"#9c179e\"],[0.4444444444444444,\"#bd3786\"],[0.5555555555555556,\"#d8576b\"],[0.6666666666666666,\"#ed7953\"],[0.7777777777777778,\"#fb9f3a\"],[0.8888888888888888,\"#fdca26\"],[1.0,\"#f0f921\"]]}],\"heatmapgl\":[{\"type\":\"heatmapgl\",\"colorbar\":{\"outlinewidth\":0,\"ticks\":\"\"},\"colorscale\":[[0.0,\"#0d0887\"],[0.1111111111111111,\"#46039f\"],[0.2222222222222222,\"#7201a8\"],[0.3333333333333333,\"#9c179e\"],[0.4444444444444444,\"#bd3786\"],[0.5555555555555556,\"#d8576b\"],[0.6666666666666666,\"#ed7953\"],[0.7777777777777778,\"#fb9f3a\"],[0.8888888888888888,\"#fdca26\"],[1.0,\"#f0f921\"]]}],\"contourcarpet\":[{\"type\":\"contourcarpet\",\"colorbar\":{\"outlinewidth\":0,\"ticks\":\"\"}}],\"contour\":[{\"type\":\"contour\",\"colorbar\":{\"outlinewidth\":0,\"ticks\":\"\"},\"colorscale\":[[0.0,\"#0d0887\"],[0.1111111111111111,\"#46039f\"],[0.2222222222222222,\"#7201a8\"],[0.3333333333333333,\"#9c179e\"],[0.4444444444444444,\"#bd3786\"],[0.5555555555555556,\"#d8576b\"],[0.6666666666666666,\"#ed7953\"],[0.7777777777777778,\"#fb9f3a\"],[0.8888888888888888,\"#fdca26\"],[1.0,\"#f0f921\"]]}],\"surface\":[{\"type\":\"surface\",\"colorbar\":{\"outlinewidth\":0,\"ticks\":\"\"},\"colorscale\":[[0.0,\"#0d0887\"],[0.1111111111111111,\"#46039f\"],[0.2222222222222222,\"#7201a8\"],[0.3333333333333333,\"#9c179e\"],[0.4444444444444444,\"#bd3786\"],[0.5555555555555556,\"#d8576b\"],[0.6666666666666666,\"#ed7953\"],[0.7777777777777778,\"#fb9f3a\"],[0.8888888888888888,\"#fdca26\"],[1.0,\"#f0f921\"]]}],\"mesh3d\":[{\"type\":\"mesh3d\",\"colorbar\":{\"outlinewidth\":0,\"ticks\":\"\"}}],\"scatter\":[{\"fillpattern\":{\"fillmode\":\"overlay\",\"size\":10,\"solidity\":0.2},\"type\":\"scatter\"}],\"parcoords\":[{\"type\":\"parcoords\",\"line\":{\"colorbar\":{\"outlinewidth\":0,\"ticks\":\"\"}}}],\"scatterpolargl\":[{\"type\":\"scatterpolargl\",\"marker\":{\"colorbar\":{\"outlinewidth\":0,\"ticks\":\"\"}}}],\"bar\":[{\"error_x\":{\"color\":\"#2a3f5f\"},\"error_y\":{\"color\":\"#2a3f5f\"},\"marker\":{\"line\":{\"color\":\"#E5ECF6\",\"width\":0.5},\"pattern\":{\"fillmode\":\"overlay\",\"size\":10,\"solidity\":0.2}},\"type\":\"bar\"}],\"scattergeo\":[{\"type\":\"scattergeo\",\"marker\":{\"colorbar\":{\"outlinewidth\":0,\"ticks\":\"\"}}}],\"scatterpolar\":[{\"type\":\"scatterpolar\",\"marker\":{\"colorbar\":{\"outlinewidth\":0,\"ticks\":\"\"}}}],\"histogram\":[{\"marker\":{\"pattern\":{\"fillmode\":\"overlay\",\"size\":10,\"solidity\":0.2}},\"type\":\"histogram\"}],\"scattergl\":[{\"type\":\"scattergl\",\"marker\":{\"colorbar\":{\"outlinewidth\":0,\"ticks\":\"\"}}}],\"scatter3d\":[{\"type\":\"scatter3d\",\"line\":{\"colorbar\":{\"outlinewidth\":0,\"ticks\":\"\"}},\"marker\":{\"colorbar\":{\"outlinewidth\":0,\"ticks\":\"\"}}}],\"scattermapbox\":[{\"type\":\"scattermapbox\",\"marker\":{\"colorbar\":{\"outlinewidth\":0,\"ticks\":\"\"}}}],\"scatterternary\":[{\"type\":\"scatterternary\",\"marker\":{\"colorbar\":{\"outlinewidth\":0,\"ticks\":\"\"}}}],\"scattercarpet\":[{\"type\":\"scattercarpet\",\"marker\":{\"colorbar\":{\"outlinewidth\":0,\"ticks\":\"\"}}}],\"carpet\":[{\"aaxis\":{\"endlinecolor\":\"#2a3f5f\",\"gridcolor\":\"white\",\"linecolor\":\"white\",\"minorgridcolor\":\"white\",\"startlinecolor\":\"#2a3f5f\"},\"baxis\":{\"endlinecolor\":\"#2a3f5f\",\"gridcolor\":\"white\",\"linecolor\":\"white\",\"minorgridcolor\":\"white\",\"startlinecolor\":\"#2a3f5f\"},\"type\":\"carpet\"}],\"table\":[{\"cells\":{\"fill\":{\"color\":\"#EBF0F8\"},\"line\":{\"color\":\"white\"}},\"header\":{\"fill\":{\"color\":\"#C8D4E3\"},\"line\":{\"color\":\"white\"}},\"type\":\"table\"}],\"barpolar\":[{\"marker\":{\"line\":{\"color\":\"#E5ECF6\",\"width\":0.5},\"pattern\":{\"fillmode\":\"overlay\",\"size\":10,\"solidity\":0.2}},\"type\":\"barpolar\"}],\"pie\":[{\"automargin\":true,\"type\":\"pie\"}]},\"layout\":{\"autotypenumbers\":\"strict\",\"colorway\":[\"#636efa\",\"#EF553B\",\"#00cc96\",\"#ab63fa\",\"#FFA15A\",\"#19d3f3\",\"#FF6692\",\"#B6E880\",\"#FF97FF\",\"#FECB52\"],\"font\":{\"color\":\"#2a3f5f\"},\"hovermode\":\"closest\",\"hoverlabel\":{\"align\":\"left\"},\"paper_bgcolor\":\"white\",\"plot_bgcolor\":\"#E5ECF6\",\"polar\":{\"bgcolor\":\"#E5ECF6\",\"angularaxis\":{\"gridcolor\":\"white\",\"linecolor\":\"white\",\"ticks\":\"\"},\"radialaxis\":{\"gridcolor\":\"white\",\"linecolor\":\"white\",\"ticks\":\"\"}},\"ternary\":{\"bgcolor\":\"#E5ECF6\",\"aaxis\":{\"gridcolor\":\"white\",\"linecolor\":\"white\",\"ticks\":\"\"},\"baxis\":{\"gridcolor\":\"white\",\"linecolor\":\"white\",\"ticks\":\"\"},\"caxis\":{\"gridcolor\":\"white\",\"linecolor\":\"white\",\"ticks\":\"\"}},\"coloraxis\":{\"colorbar\":{\"outlinewidth\":0,\"ticks\":\"\"}},\"colorscale\":{\"sequential\":[[0.0,\"#0d0887\"],[0.1111111111111111,\"#46039f\"],[0.2222222222222222,\"#7201a8\"],[0.3333333333333333,\"#9c179e\"],[0.4444444444444444,\"#bd3786\"],[0.5555555555555556,\"#d8576b\"],[0.6666666666666666,\"#ed7953\"],[0.7777777777777778,\"#fb9f3a\"],[0.8888888888888888,\"#fdca26\"],[1.0,\"#f0f921\"]],\"sequentialminus\":[[0.0,\"#0d0887\"],[0.1111111111111111,\"#46039f\"],[0.2222222222222222,\"#7201a8\"],[0.3333333333333333,\"#9c179e\"],[0.4444444444444444,\"#bd3786\"],[0.5555555555555556,\"#d8576b\"],[0.6666666666666666,\"#ed7953\"],[0.7777777777777778,\"#fb9f3a\"],[0.8888888888888888,\"#fdca26\"],[1.0,\"#f0f921\"]],\"diverging\":[[0,\"#8e0152\"],[0.1,\"#c51b7d\"],[0.2,\"#de77ae\"],[0.3,\"#f1b6da\"],[0.4,\"#fde0ef\"],[0.5,\"#f7f7f7\"],[0.6,\"#e6f5d0\"],[0.7,\"#b8e186\"],[0.8,\"#7fbc41\"],[0.9,\"#4d9221\"],[1,\"#276419\"]]},\"xaxis\":{\"gridcolor\":\"white\",\"linecolor\":\"white\",\"ticks\":\"\",\"title\":{\"standoff\":15},\"zerolinecolor\":\"white\",\"automargin\":true,\"zerolinewidth\":2},\"yaxis\":{\"gridcolor\":\"white\",\"linecolor\":\"white\",\"ticks\":\"\",\"title\":{\"standoff\":15},\"zerolinecolor\":\"white\",\"automargin\":true,\"zerolinewidth\":2},\"scene\":{\"xaxis\":{\"backgroundcolor\":\"#E5ECF6\",\"gridcolor\":\"white\",\"linecolor\":\"white\",\"showbackground\":true,\"ticks\":\"\",\"zerolinecolor\":\"white\",\"gridwidth\":2},\"yaxis\":{\"backgroundcolor\":\"#E5ECF6\",\"gridcolor\":\"white\",\"linecolor\":\"white\",\"showbackground\":true,\"ticks\":\"\",\"zerolinecolor\":\"white\",\"gridwidth\":2},\"zaxis\":{\"backgroundcolor\":\"#E5ECF6\",\"gridcolor\":\"white\",\"linecolor\":\"white\",\"showbackground\":true,\"ticks\":\"\",\"zerolinecolor\":\"white\",\"gridwidth\":2}},\"shapedefaults\":{\"line\":{\"color\":\"#2a3f5f\"}},\"annotationdefaults\":{\"arrowcolor\":\"#2a3f5f\",\"arrowhead\":0,\"arrowwidth\":1},\"geo\":{\"bgcolor\":\"white\",\"landcolor\":\"#E5ECF6\",\"subunitcolor\":\"white\",\"showland\":true,\"showlakes\":true,\"lakecolor\":\"white\"},\"title\":{\"x\":0.05},\"mapbox\":{\"style\":\"light\"}}},\"xaxis\":{\"anchor\":\"y\",\"domain\":[0.0,1.0],\"title\":{\"text\":\"Trip duration\"}},\"yaxis\":{\"anchor\":\"x\",\"domain\":[0.0,1.0],\"title\":{\"text\":\"price\"}},\"legend\":{\"title\":{\"text\":\"train_type\"},\"tracegroupgap\":0},\"margin\":{\"t\":60},\"updatemenus\":[{\"buttons\":[{\"args\":[null,{\"frame\":{\"duration\":500,\"redraw\":false},\"mode\":\"immediate\",\"fromcurrent\":true,\"transition\":{\"duration\":500,\"easing\":\"linear\"}}],\"label\":\"&#9654;\",\"method\":\"animate\"},{\"args\":[[null],{\"frame\":{\"duration\":0,\"redraw\":false},\"mode\":\"immediate\",\"fromcurrent\":true,\"transition\":{\"duration\":0,\"easing\":\"linear\"}}],\"label\":\"&#9724;\",\"method\":\"animate\"}],\"direction\":\"left\",\"pad\":{\"r\":10,\"t\":70},\"showactive\":false,\"type\":\"buttons\",\"x\":0.1,\"xanchor\":\"right\",\"y\":0,\"yanchor\":\"top\"}],\"sliders\":[{\"active\":0,\"currentvalue\":{\"prefix\":\"destination=\"},\"len\":0.9,\"pad\":{\"b\":10,\"t\":60},\"steps\":[{\"args\":[[\"BARCELONA\"],{\"frame\":{\"duration\":0,\"redraw\":false},\"mode\":\"immediate\",\"fromcurrent\":true,\"transition\":{\"duration\":0,\"easing\":\"linear\"}}],\"label\":\"BARCELONA\",\"method\":\"animate\"},{\"args\":[[\"PONFERRADA\"],{\"frame\":{\"duration\":0,\"redraw\":false},\"mode\":\"immediate\",\"fromcurrent\":true,\"transition\":{\"duration\":0,\"easing\":\"linear\"}}],\"label\":\"PONFERRADA\",\"method\":\"animate\"},{\"args\":[[\"SEVILLA\"],{\"frame\":{\"duration\":0,\"redraw\":false},\"mode\":\"immediate\",\"fromcurrent\":true,\"transition\":{\"duration\":0,\"easing\":\"linear\"}}],\"label\":\"SEVILLA\",\"method\":\"animate\"},{\"args\":[[\"VALENCIA\"],{\"frame\":{\"duration\":0,\"redraw\":false},\"mode\":\"immediate\",\"fromcurrent\":true,\"transition\":{\"duration\":0,\"easing\":\"linear\"}}],\"label\":\"VALENCIA\",\"method\":\"animate\"}],\"x\":0.1,\"xanchor\":\"left\",\"y\":0,\"yanchor\":\"top\"}]},                        {\"responsive\": true}                    ).then(function(){\n",
       "                            Plotly.addFrames('440922af-ad84-4ad3-9ec0-9bd945ef3ed1', [{\"data\":[{\"hovertemplate\":\"train_type=AVE<br>destination=BARCELONA<br>Trip duration=%{x}<br>price=%{y}<extra></extra>\",\"legendgroup\":\"AVE\",\"marker\":{\"color\":\"#636efa\",\"symbol\":\"circle\"},\"mode\":\"markers\",\"name\":\"AVE\",\"orientation\":\"v\",\"showlegend\":true,\"x\":[2.813164571763121],\"xaxis\":\"x\",\"y\":[87.01867687461979],\"yaxis\":\"y\",\"type\":\"scatter\"},{\"hovertemplate\":\"train_type=AVE-TGV<br>destination=BARCELONA<br>Trip duration=%{x}<br>price=%{y}<extra></extra>\",\"legendgroup\":\"AVE-TGV\",\"marker\":{\"color\":\"#EF553B\",\"symbol\":\"circle\"},\"mode\":\"markers\",\"name\":\"AVE-TGV\",\"orientation\":\"v\",\"showlegend\":true,\"x\":[2.9833333333333334],\"xaxis\":\"x\",\"y\":[87.22862851847562],\"yaxis\":\"y\",\"type\":\"scatter\"},{\"hovertemplate\":\"train_type=R. EXPRES<br>destination=BARCELONA<br>Trip duration=%{x}<br>price=%{y}<extra></extra>\",\"legendgroup\":\"R. EXPRES\",\"marker\":{\"color\":\"#00cc96\",\"symbol\":\"circle\"},\"mode\":\"markers\",\"name\":\"R. EXPRES\",\"orientation\":\"v\",\"showlegend\":true,\"x\":[9.366666666666667],\"xaxis\":\"x\",\"y\":[43.25],\"yaxis\":\"y\",\"type\":\"scatter\"}],\"name\":\"BARCELONA\"},{\"data\":[{\"hovertemplate\":\"train_type=ALVIA<br>destination=PONFERRADA<br>Trip duration=%{x}<br>price=%{y}<extra></extra>\",\"legendgroup\":\"ALVIA\",\"marker\":{\"color\":\"#ab63fa\",\"symbol\":\"circle\"},\"mode\":\"markers\",\"name\":\"ALVIA\",\"orientation\":\"v\",\"showlegend\":true,\"x\":[4.05],\"xaxis\":\"x\",\"y\":[46.41483003511012],\"yaxis\":\"y\",\"type\":\"scatter\"},{\"hovertemplate\":\"train_type=AVE-LD<br>destination=PONFERRADA<br>Trip duration=%{x}<br>price=%{y}<extra></extra>\",\"legendgroup\":\"AVE-LD\",\"marker\":{\"color\":\"#FFA15A\",\"symbol\":\"circle\"},\"mode\":\"markers\",\"name\":\"AVE-LD\",\"orientation\":\"v\",\"showlegend\":true,\"x\":[4.2],\"xaxis\":\"x\",\"y\":[43.222886373856994],\"yaxis\":\"y\",\"type\":\"scatter\"},{\"hovertemplate\":\"train_type=AVE-MD<br>destination=PONFERRADA<br>Trip duration=%{x}<br>price=%{y}<extra></extra>\",\"legendgroup\":\"AVE-MD\",\"marker\":{\"color\":\"#19d3f3\",\"symbol\":\"circle\"},\"mode\":\"markers\",\"name\":\"AVE-MD\",\"orientation\":\"v\",\"showlegend\":true,\"x\":[4.092260254840027],\"xaxis\":\"x\",\"y\":[47.97639721523883],\"yaxis\":\"y\",\"type\":\"scatter\"},{\"hovertemplate\":\"train_type=LD<br>destination=PONFERRADA<br>Trip duration=%{x}<br>price=%{y}<extra></extra>\",\"legendgroup\":\"LD\",\"marker\":{\"color\":\"#FF6692\",\"symbol\":\"circle\"},\"mode\":\"markers\",\"name\":\"LD\",\"orientation\":\"v\",\"showlegend\":true,\"x\":[4.2],\"xaxis\":\"x\",\"y\":[46.83686274509804],\"yaxis\":\"y\",\"type\":\"scatter\"},{\"hovertemplate\":\"train_type=LD-MD<br>destination=PONFERRADA<br>Trip duration=%{x}<br>price=%{y}<extra></extra>\",\"legendgroup\":\"LD-MD\",\"marker\":{\"color\":\"#B6E880\",\"symbol\":\"circle\"},\"mode\":\"markers\",\"name\":\"LD-MD\",\"orientation\":\"v\",\"showlegend\":true,\"x\":[5.9369536855838225],\"xaxis\":\"x\",\"y\":[38.80538626409468],\"yaxis\":\"y\",\"type\":\"scatter\"},{\"hovertemplate\":\"train_type=TRENHOTEL<br>destination=PONFERRADA<br>Trip duration=%{x}<br>price=%{y}<extra></extra>\",\"legendgroup\":\"TRENHOTEL\",\"marker\":{\"color\":\"#FF97FF\",\"symbol\":\"circle\"},\"mode\":\"markers\",\"name\":\"TRENHOTEL\",\"orientation\":\"v\",\"showlegend\":true,\"x\":[6.283333333333333],\"xaxis\":\"x\",\"y\":[49.252821471785275],\"yaxis\":\"y\",\"type\":\"scatter\"}],\"name\":\"PONFERRADA\"},{\"data\":[{\"hovertemplate\":\"train_type=AVE<br>destination=SEVILLA<br>Trip duration=%{x}<br>price=%{y}<extra></extra>\",\"legendgroup\":\"AVE\",\"marker\":{\"color\":\"#636efa\",\"symbol\":\"circle\"},\"mode\":\"markers\",\"name\":\"AVE\",\"orientation\":\"v\",\"showlegend\":true,\"x\":[2.5403802284923613],\"xaxis\":\"x\",\"y\":[65.77439537940042],\"yaxis\":\"y\",\"type\":\"scatter\"},{\"hovertemplate\":\"train_type=ALVIA<br>destination=SEVILLA<br>Trip duration=%{x}<br>price=%{y}<extra></extra>\",\"legendgroup\":\"ALVIA\",\"marker\":{\"color\":\"#ab63fa\",\"symbol\":\"circle\"},\"mode\":\"markers\",\"name\":\"ALVIA\",\"orientation\":\"v\",\"showlegend\":true,\"x\":[2.586919619175252],\"xaxis\":\"x\",\"y\":[66.44290979143982],\"yaxis\":\"y\",\"type\":\"scatter\"},{\"hovertemplate\":\"train_type=AV City<br>destination=SEVILLA<br>Trip duration=%{x}<br>price=%{y}<extra></extra>\",\"legendgroup\":\"AV City\",\"marker\":{\"color\":\"#FECB52\",\"symbol\":\"circle\"},\"mode\":\"markers\",\"name\":\"AV City\",\"orientation\":\"v\",\"showlegend\":true,\"x\":[2.837594730786017],\"xaxis\":\"x\",\"y\":[48.474239673848345],\"yaxis\":\"y\",\"type\":\"scatter\"},{\"hovertemplate\":\"train_type=INTERCITY<br>destination=SEVILLA<br>Trip duration=%{x}<br>price=%{y}<extra></extra>\",\"legendgroup\":\"INTERCITY\",\"marker\":{\"color\":\"#636efa\",\"symbol\":\"circle\"},\"mode\":\"markers\",\"name\":\"INTERCITY\",\"orientation\":\"v\",\"showlegend\":true,\"x\":[2.7],\"xaxis\":\"x\",\"y\":[62.2],\"yaxis\":\"y\",\"type\":\"scatter\"},{\"hovertemplate\":\"train_type=MD-LD<br>destination=SEVILLA<br>Trip duration=%{x}<br>price=%{y}<extra></extra>\",\"legendgroup\":\"MD-LD\",\"marker\":{\"color\":\"#EF553B\",\"symbol\":\"circle\"},\"mode\":\"markers\",\"name\":\"MD-LD\",\"orientation\":\"v\",\"showlegend\":true,\"x\":[7.683333333333334],\"xaxis\":\"x\",\"y\":[35.41573338695084],\"yaxis\":\"y\",\"type\":\"scatter\"}],\"name\":\"SEVILLA\"},{\"data\":[{\"hovertemplate\":\"train_type=AVE<br>destination=VALENCIA<br>Trip duration=%{x}<br>price=%{y}<extra></extra>\",\"legendgroup\":\"AVE\",\"marker\":{\"color\":\"#636efa\",\"symbol\":\"circle\"},\"mode\":\"markers\",\"name\":\"AVE\",\"orientation\":\"v\",\"showlegend\":true,\"x\":[1.7496866517154113],\"xaxis\":\"x\",\"y\":[45.826840934576],\"yaxis\":\"y\",\"type\":\"scatter\"},{\"hovertemplate\":\"train_type=ALVIA<br>destination=VALENCIA<br>Trip duration=%{x}<br>price=%{y}<extra></extra>\",\"legendgroup\":\"ALVIA\",\"marker\":{\"color\":\"#ab63fa\",\"symbol\":\"circle\"},\"mode\":\"markers\",\"name\":\"ALVIA\",\"orientation\":\"v\",\"showlegend\":true,\"x\":[2.0833333333333335],\"xaxis\":\"x\",\"y\":[52.81028780610957],\"yaxis\":\"y\",\"type\":\"scatter\"},{\"hovertemplate\":\"train_type=AVE-LD<br>destination=VALENCIA<br>Trip duration=%{x}<br>price=%{y}<extra></extra>\",\"legendgroup\":\"AVE-LD\",\"marker\":{\"color\":\"#FFA15A\",\"symbol\":\"circle\"},\"mode\":\"markers\",\"name\":\"AVE-LD\",\"orientation\":\"v\",\"showlegend\":true,\"x\":[5.051420042891092],\"xaxis\":\"x\",\"y\":[49.10624673969745],\"yaxis\":\"y\",\"type\":\"scatter\"},{\"hovertemplate\":\"train_type=AVE-MD<br>destination=VALENCIA<br>Trip duration=%{x}<br>price=%{y}<extra></extra>\",\"legendgroup\":\"AVE-MD\",\"marker\":{\"color\":\"#19d3f3\",\"symbol\":\"circle\"},\"mode\":\"markers\",\"name\":\"AVE-MD\",\"orientation\":\"v\",\"showlegend\":true,\"x\":[7.016666666666667],\"xaxis\":\"x\",\"y\":[67.75511115522032],\"yaxis\":\"y\",\"type\":\"scatter\"},{\"hovertemplate\":\"train_type=INTERCITY<br>destination=VALENCIA<br>Trip duration=%{x}<br>price=%{y}<extra></extra>\",\"legendgroup\":\"INTERCITY\",\"marker\":{\"color\":\"#636efa\",\"symbol\":\"circle\"},\"mode\":\"markers\",\"name\":\"INTERCITY\",\"orientation\":\"v\",\"showlegend\":true,\"x\":[2.977456708011265],\"xaxis\":\"x\",\"y\":[33.174264485589305],\"yaxis\":\"y\",\"type\":\"scatter\"},{\"hovertemplate\":\"train_type=REGIONAL<br>destination=VALENCIA<br>Trip duration=%{x}<br>price=%{y}<extra></extra>\",\"legendgroup\":\"REGIONAL\",\"marker\":{\"color\":\"#00cc96\",\"symbol\":\"circle\"},\"mode\":\"markers\",\"name\":\"REGIONAL\",\"orientation\":\"v\",\"showlegend\":true,\"x\":[6.603475030076072],\"xaxis\":\"x\",\"y\":[28.35],\"yaxis\":\"y\",\"type\":\"scatter\"}],\"name\":\"VALENCIA\"}]);\n",
       "                        }).then(function(){\n",
       "                            \n",
       "var gd = document.getElementById('440922af-ad84-4ad3-9ec0-9bd945ef3ed1');\n",
       "var x = new MutationObserver(function (mutations, observer) {{\n",
       "        var display = window.getComputedStyle(gd).display;\n",
       "        if (!display || display === 'none') {{\n",
       "            console.log([gd, 'removed!']);\n",
       "            Plotly.purge(gd);\n",
       "            observer.disconnect();\n",
       "        }}\n",
       "}});\n",
       "\n",
       "// Listen for the removal of the full notebook cells\n",
       "var notebookContainer = gd.closest('#notebook-container');\n",
       "if (notebookContainer) {{\n",
       "    x.observe(notebookContainer, {childList: true});\n",
       "}}\n",
       "\n",
       "// Listen for the clearing of the current output cell\n",
       "var outputEl = gd.closest('.output');\n",
       "if (outputEl) {{\n",
       "    x.observe(outputEl, {childList: true});\n",
       "}}\n",
       "\n",
       "                        })                };                });            </script>        </div>"
      ]
     },
     "metadata": {},
     "output_type": "display_data"
    }
   ],
   "source": [
    "# drow interactive graph\n",
    "\n",
    "px.scatter(M,x=\"Trip duration\",y=\"price\",animation_frame=\"destination\",color=\"train_type\")"
   ]
  },
  {
   "cell_type": "code",
   "execution_count": 38,
   "id": "6d29f4dd",
   "metadata": {
    "execution": {
     "iopub.execute_input": "2022-07-29T19:44:49.418274Z",
     "iopub.status.busy": "2022-07-29T19:44:49.417867Z",
     "iopub.status.idle": "2022-07-29T19:44:49.802171Z",
     "shell.execute_reply": "2022-07-29T19:44:49.800896Z"
    },
    "papermill": {
     "duration": 0.421345,
     "end_time": "2022-07-29T19:44:49.804496",
     "exception": false,
     "start_time": "2022-07-29T19:44:49.383151",
     "status": "completed"
    },
    "tags": []
   },
   "outputs": [
    {
     "data": {
      "text/html": [
       "<div>\n",
       "<style scoped>\n",
       "    .dataframe tbody tr th:only-of-type {\n",
       "        vertical-align: middle;\n",
       "    }\n",
       "\n",
       "    .dataframe tbody tr th {\n",
       "        vertical-align: top;\n",
       "    }\n",
       "\n",
       "    .dataframe thead th {\n",
       "        text-align: right;\n",
       "    }\n",
       "</style>\n",
       "<table border=\"1\" class=\"dataframe\">\n",
       "  <thead>\n",
       "    <tr style=\"text-align: right;\">\n",
       "      <th></th>\n",
       "      <th>index</th>\n",
       "      <th>Unnamed: 0</th>\n",
       "      <th>insert_date</th>\n",
       "      <th>origin</th>\n",
       "      <th>destination</th>\n",
       "      <th>start_date</th>\n",
       "      <th>end_date</th>\n",
       "      <th>train_type</th>\n",
       "      <th>price</th>\n",
       "      <th>train_class</th>\n",
       "      <th>fare</th>\n",
       "      <th>Day</th>\n",
       "      <th>Trip duration</th>\n",
       "      <th>Month</th>\n",
       "      <th>day</th>\n",
       "      <th>year</th>\n",
       "    </tr>\n",
       "  </thead>\n",
       "  <tbody>\n",
       "    <tr>\n",
       "      <th>1629</th>\n",
       "      <td>1815</td>\n",
       "      <td>1815</td>\n",
       "      <td>2019-04-19 05:47:27</td>\n",
       "      <td>BARCELONA</td>\n",
       "      <td>MADRID</td>\n",
       "      <td>2019-04-25 05:50:00</td>\n",
       "      <td>2019-04-25 08:20:00</td>\n",
       "      <td>AVE</td>\n",
       "      <td>49.55</td>\n",
       "      <td>Turista</td>\n",
       "      <td>Promo</td>\n",
       "      <td>Friday</td>\n",
       "      <td>2.500000</td>\n",
       "      <td>4</td>\n",
       "      <td>19</td>\n",
       "      <td>2019</td>\n",
       "    </tr>\n",
       "    <tr>\n",
       "      <th>1630</th>\n",
       "      <td>1816</td>\n",
       "      <td>1816</td>\n",
       "      <td>2019-04-19 05:47:27</td>\n",
       "      <td>BARCELONA</td>\n",
       "      <td>MADRID</td>\n",
       "      <td>2019-04-25 06:05:00</td>\n",
       "      <td>2019-04-25 09:15:00</td>\n",
       "      <td>AVE</td>\n",
       "      <td>80.15</td>\n",
       "      <td>Turista Plus</td>\n",
       "      <td>Promo</td>\n",
       "      <td>Friday</td>\n",
       "      <td>3.166667</td>\n",
       "      <td>4</td>\n",
       "      <td>19</td>\n",
       "      <td>2019</td>\n",
       "    </tr>\n",
       "    <tr>\n",
       "      <th>1631</th>\n",
       "      <td>1817</td>\n",
       "      <td>1817</td>\n",
       "      <td>2019-04-19 05:47:27</td>\n",
       "      <td>BARCELONA</td>\n",
       "      <td>MADRID</td>\n",
       "      <td>2019-04-25 06:25:00</td>\n",
       "      <td>2019-04-25 08:55:00</td>\n",
       "      <td>AVE</td>\n",
       "      <td>88.95</td>\n",
       "      <td>Turista</td>\n",
       "      <td>Promo</td>\n",
       "      <td>Friday</td>\n",
       "      <td>2.500000</td>\n",
       "      <td>4</td>\n",
       "      <td>19</td>\n",
       "      <td>2019</td>\n",
       "    </tr>\n",
       "    <tr>\n",
       "      <th>1632</th>\n",
       "      <td>1818</td>\n",
       "      <td>1818</td>\n",
       "      <td>2019-04-19 05:47:27</td>\n",
       "      <td>BARCELONA</td>\n",
       "      <td>MADRID</td>\n",
       "      <td>2019-04-25 06:40:00</td>\n",
       "      <td>2019-04-25 09:25:00</td>\n",
       "      <td>AVE</td>\n",
       "      <td>90.50</td>\n",
       "      <td>Turista Plus</td>\n",
       "      <td>Promo</td>\n",
       "      <td>Friday</td>\n",
       "      <td>2.750000</td>\n",
       "      <td>4</td>\n",
       "      <td>19</td>\n",
       "      <td>2019</td>\n",
       "    </tr>\n",
       "    <tr>\n",
       "      <th>1633</th>\n",
       "      <td>1819</td>\n",
       "      <td>1819</td>\n",
       "      <td>2019-04-19 05:47:27</td>\n",
       "      <td>BARCELONA</td>\n",
       "      <td>MADRID</td>\n",
       "      <td>2019-04-25 07:00:00</td>\n",
       "      <td>2019-04-25 09:30:00</td>\n",
       "      <td>AVE</td>\n",
       "      <td>127.10</td>\n",
       "      <td>Turista</td>\n",
       "      <td>Flexible</td>\n",
       "      <td>Friday</td>\n",
       "      <td>2.500000</td>\n",
       "      <td>4</td>\n",
       "      <td>19</td>\n",
       "      <td>2019</td>\n",
       "    </tr>\n",
       "  </tbody>\n",
       "</table>\n",
       "</div>"
      ],
      "text/plain": [
       "      index  Unnamed: 0         insert_date     origin destination  \\\n",
       "1629   1815        1815 2019-04-19 05:47:27  BARCELONA      MADRID   \n",
       "1630   1816        1816 2019-04-19 05:47:27  BARCELONA      MADRID   \n",
       "1631   1817        1817 2019-04-19 05:47:27  BARCELONA      MADRID   \n",
       "1632   1818        1818 2019-04-19 05:47:27  BARCELONA      MADRID   \n",
       "1633   1819        1819 2019-04-19 05:47:27  BARCELONA      MADRID   \n",
       "\n",
       "               start_date             end_date train_type   price  \\\n",
       "1629  2019-04-25 05:50:00  2019-04-25 08:20:00        AVE   49.55   \n",
       "1630  2019-04-25 06:05:00  2019-04-25 09:15:00        AVE   80.15   \n",
       "1631  2019-04-25 06:25:00  2019-04-25 08:55:00        AVE   88.95   \n",
       "1632  2019-04-25 06:40:00  2019-04-25 09:25:00        AVE   90.50   \n",
       "1633  2019-04-25 07:00:00  2019-04-25 09:30:00        AVE  127.10   \n",
       "\n",
       "       train_class      fare     Day  Trip duration  Month  day  year  \n",
       "1629       Turista     Promo  Friday       2.500000      4   19  2019  \n",
       "1630  Turista Plus     Promo  Friday       3.166667      4   19  2019  \n",
       "1631       Turista     Promo  Friday       2.500000      4   19  2019  \n",
       "1632  Turista Plus     Promo  Friday       2.750000      4   19  2019  \n",
       "1633       Turista  Flexible  Friday       2.500000      4   19  2019  "
      ]
     },
     "execution_count": 38,
     "metadata": {},
     "output_type": "execute_result"
    }
   ],
   "source": [
    "# make filter origin from BARCELONA to other destination\n",
    "\n",
    "df_B=df[(df[\"origin\"]==\"BARCELONA\")]\n",
    "df_B.head()"
   ]
  },
  {
   "cell_type": "code",
   "execution_count": 39,
   "id": "a8534596",
   "metadata": {
    "execution": {
     "iopub.execute_input": "2022-07-29T19:44:49.875289Z",
     "iopub.status.busy": "2022-07-29T19:44:49.874521Z",
     "iopub.status.idle": "2022-07-29T19:44:49.961318Z",
     "shell.execute_reply": "2022-07-29T19:44:49.959863Z"
    },
    "papermill": {
     "duration": 0.12536,
     "end_time": "2022-07-29T19:44:49.964331",
     "exception": false,
     "start_time": "2022-07-29T19:44:49.838971",
     "status": "completed"
    },
    "tags": []
   },
   "outputs": [
    {
     "name": "stderr",
     "output_type": "stream",
     "text": [
      "/opt/conda/lib/python3.7/site-packages/ipykernel_launcher.py:3: FutureWarning:\n",
      "\n",
      "Indexing with multiple keys (implicitly converted to a tuple of keys) will be deprecated, use a list instead.\n",
      "\n"
     ]
    },
    {
     "data": {
      "text/html": [
       "<div>\n",
       "<style scoped>\n",
       "    .dataframe tbody tr th:only-of-type {\n",
       "        vertical-align: middle;\n",
       "    }\n",
       "\n",
       "    .dataframe tbody tr th {\n",
       "        vertical-align: top;\n",
       "    }\n",
       "\n",
       "    .dataframe thead th {\n",
       "        text-align: right;\n",
       "    }\n",
       "</style>\n",
       "<table border=\"1\" class=\"dataframe\">\n",
       "  <thead>\n",
       "    <tr style=\"text-align: right;\">\n",
       "      <th></th>\n",
       "      <th></th>\n",
       "      <th>Trip duration</th>\n",
       "      <th>price</th>\n",
       "    </tr>\n",
       "    <tr>\n",
       "      <th>destination</th>\n",
       "      <th>train_type</th>\n",
       "      <th></th>\n",
       "      <th></th>\n",
       "    </tr>\n",
       "  </thead>\n",
       "  <tbody>\n",
       "    <tr>\n",
       "      <th rowspan=\"3\" valign=\"top\">MADRID</th>\n",
       "      <th>AVE</th>\n",
       "      <td>2.826255</td>\n",
       "      <td>86.623792</td>\n",
       "    </tr>\n",
       "    <tr>\n",
       "      <th>AVE-TGV</th>\n",
       "      <td>2.916667</td>\n",
       "      <td>85.825570</td>\n",
       "    </tr>\n",
       "    <tr>\n",
       "      <th>R. EXPRES</th>\n",
       "      <td>9.066667</td>\n",
       "      <td>43.250000</td>\n",
       "    </tr>\n",
       "  </tbody>\n",
       "</table>\n",
       "</div>"
      ],
      "text/plain": [
       "                        Trip duration      price\n",
       "destination train_type                          \n",
       "MADRID      AVE              2.826255  86.623792\n",
       "            AVE-TGV          2.916667  85.825570\n",
       "            R. EXPRES        9.066667  43.250000"
      ]
     },
     "execution_count": 39,
     "metadata": {},
     "output_type": "execute_result"
    }
   ],
   "source": [
    "# make group by \n",
    "\n",
    "B=df_B.groupby([\"destination\",\"train_type\"])[\"Trip duration\",\"price\"].mean()\n",
    "B"
   ]
  },
  {
   "cell_type": "code",
   "execution_count": 40,
   "id": "9e15a216",
   "metadata": {
    "execution": {
     "iopub.execute_input": "2022-07-29T19:44:50.036362Z",
     "iopub.status.busy": "2022-07-29T19:44:50.035282Z",
     "iopub.status.idle": "2022-07-29T19:44:50.251753Z",
     "shell.execute_reply": "2022-07-29T19:44:50.250516Z"
    },
    "papermill": {
     "duration": 0.25528,
     "end_time": "2022-07-29T19:44:50.254202",
     "exception": false,
     "start_time": "2022-07-29T19:44:49.998922",
     "status": "completed"
    },
    "tags": []
   },
   "outputs": [
    {
     "data": {
      "text/plain": [
       "<AxesSubplot:xlabel='destination,train_type'>"
      ]
     },
     "execution_count": 40,
     "metadata": {},
     "output_type": "execute_result"
    },
    {
     "data": {
      "image/png": "[encoded data removed]",
      "text/plain": [
       "<Figure size 1224x504 with 1 Axes>"
      ]
     },
     "metadata": {
      "needs_background": "light"
     },
     "output_type": "display_data"
    }
   ],
   "source": [
    "# make graph\n",
    "B.plot(kind=\"bar\",figsize=(17,7))"
   ]
  },
  {
   "cell_type": "code",
   "execution_count": 41,
   "id": "a4e4315a",
   "metadata": {
    "execution": {
     "iopub.execute_input": "2022-07-29T19:44:50.325252Z",
     "iopub.status.busy": "2022-07-29T19:44:50.324341Z",
     "iopub.status.idle": "2022-07-29T19:44:50.704437Z",
     "shell.execute_reply": "2022-07-29T19:44:50.703325Z"
    },
    "papermill": {
     "duration": 0.418356,
     "end_time": "2022-07-29T19:44:50.706937",
     "exception": false,
     "start_time": "2022-07-29T19:44:50.288581",
     "status": "completed"
    },
    "tags": []
   },
   "outputs": [
    {
     "data": {
      "text/html": [
       "<div>\n",
       "<style scoped>\n",
       "    .dataframe tbody tr th:only-of-type {\n",
       "        vertical-align: middle;\n",
       "    }\n",
       "\n",
       "    .dataframe tbody tr th {\n",
       "        vertical-align: top;\n",
       "    }\n",
       "\n",
       "    .dataframe thead th {\n",
       "        text-align: right;\n",
       "    }\n",
       "</style>\n",
       "<table border=\"1\" class=\"dataframe\">\n",
       "  <thead>\n",
       "    <tr style=\"text-align: right;\">\n",
       "      <th></th>\n",
       "      <th>index</th>\n",
       "      <th>Unnamed: 0</th>\n",
       "      <th>insert_date</th>\n",
       "      <th>origin</th>\n",
       "      <th>destination</th>\n",
       "      <th>start_date</th>\n",
       "      <th>end_date</th>\n",
       "      <th>train_type</th>\n",
       "      <th>price</th>\n",
       "      <th>train_class</th>\n",
       "      <th>fare</th>\n",
       "      <th>Day</th>\n",
       "      <th>Trip duration</th>\n",
       "      <th>Month</th>\n",
       "      <th>day</th>\n",
       "      <th>year</th>\n",
       "    </tr>\n",
       "  </thead>\n",
       "  <tbody>\n",
       "    <tr>\n",
       "      <th>58</th>\n",
       "      <td>67</td>\n",
       "      <td>67</td>\n",
       "      <td>2019-04-19 05:32:20</td>\n",
       "      <td>SEVILLA</td>\n",
       "      <td>MADRID</td>\n",
       "      <td>2019-05-28 06:10:00</td>\n",
       "      <td>2019-05-28 08:58:00</td>\n",
       "      <td>AV City</td>\n",
       "      <td>43.55</td>\n",
       "      <td>Turista</td>\n",
       "      <td>Promo</td>\n",
       "      <td>Friday</td>\n",
       "      <td>2.800000</td>\n",
       "      <td>4</td>\n",
       "      <td>19</td>\n",
       "      <td>2019</td>\n",
       "    </tr>\n",
       "    <tr>\n",
       "      <th>59</th>\n",
       "      <td>68</td>\n",
       "      <td>68</td>\n",
       "      <td>2019-04-19 05:32:20</td>\n",
       "      <td>SEVILLA</td>\n",
       "      <td>MADRID</td>\n",
       "      <td>2019-05-28 06:45:00</td>\n",
       "      <td>2019-05-28 09:15:00</td>\n",
       "      <td>AVE</td>\n",
       "      <td>76.30</td>\n",
       "      <td>Turista</td>\n",
       "      <td>Flexible</td>\n",
       "      <td>Friday</td>\n",
       "      <td>2.500000</td>\n",
       "      <td>4</td>\n",
       "      <td>19</td>\n",
       "      <td>2019</td>\n",
       "    </tr>\n",
       "    <tr>\n",
       "      <th>60</th>\n",
       "      <td>69</td>\n",
       "      <td>69</td>\n",
       "      <td>2019-04-19 05:32:20</td>\n",
       "      <td>SEVILLA</td>\n",
       "      <td>MADRID</td>\n",
       "      <td>2019-05-28 07:15:00</td>\n",
       "      <td>2019-05-28 09:55:00</td>\n",
       "      <td>AVE</td>\n",
       "      <td>53.40</td>\n",
       "      <td>Turista</td>\n",
       "      <td>Promo</td>\n",
       "      <td>Friday</td>\n",
       "      <td>2.666667</td>\n",
       "      <td>4</td>\n",
       "      <td>19</td>\n",
       "      <td>2019</td>\n",
       "    </tr>\n",
       "    <tr>\n",
       "      <th>61</th>\n",
       "      <td>70</td>\n",
       "      <td>70</td>\n",
       "      <td>2019-04-19 05:32:20</td>\n",
       "      <td>SEVILLA</td>\n",
       "      <td>MADRID</td>\n",
       "      <td>2019-05-28 07:40:00</td>\n",
       "      <td>2019-05-28 10:05:00</td>\n",
       "      <td>AVE</td>\n",
       "      <td>60.30</td>\n",
       "      <td>Turista</td>\n",
       "      <td>Promo</td>\n",
       "      <td>Friday</td>\n",
       "      <td>2.416667</td>\n",
       "      <td>4</td>\n",
       "      <td>19</td>\n",
       "      <td>2019</td>\n",
       "    </tr>\n",
       "    <tr>\n",
       "      <th>62</th>\n",
       "      <td>71</td>\n",
       "      <td>71</td>\n",
       "      <td>2019-04-19 05:32:20</td>\n",
       "      <td>SEVILLA</td>\n",
       "      <td>MADRID</td>\n",
       "      <td>2019-05-28 08:45:00</td>\n",
       "      <td>2019-05-28 11:15:00</td>\n",
       "      <td>AVE</td>\n",
       "      <td>76.30</td>\n",
       "      <td>Turista</td>\n",
       "      <td>Flexible</td>\n",
       "      <td>Friday</td>\n",
       "      <td>2.500000</td>\n",
       "      <td>4</td>\n",
       "      <td>19</td>\n",
       "      <td>2019</td>\n",
       "    </tr>\n",
       "  </tbody>\n",
       "</table>\n",
       "</div>"
      ],
      "text/plain": [
       "    index  Unnamed: 0         insert_date   origin destination  \\\n",
       "58     67          67 2019-04-19 05:32:20  SEVILLA      MADRID   \n",
       "59     68          68 2019-04-19 05:32:20  SEVILLA      MADRID   \n",
       "60     69          69 2019-04-19 05:32:20  SEVILLA      MADRID   \n",
       "61     70          70 2019-04-19 05:32:20  SEVILLA      MADRID   \n",
       "62     71          71 2019-04-19 05:32:20  SEVILLA      MADRID   \n",
       "\n",
       "             start_date             end_date train_type  price train_class  \\\n",
       "58  2019-05-28 06:10:00  2019-05-28 08:58:00    AV City  43.55     Turista   \n",
       "59  2019-05-28 06:45:00  2019-05-28 09:15:00        AVE  76.30     Turista   \n",
       "60  2019-05-28 07:15:00  2019-05-28 09:55:00        AVE  53.40     Turista   \n",
       "61  2019-05-28 07:40:00  2019-05-28 10:05:00        AVE  60.30     Turista   \n",
       "62  2019-05-28 08:45:00  2019-05-28 11:15:00        AVE  76.30     Turista   \n",
       "\n",
       "        fare     Day  Trip duration  Month  day  year  \n",
       "58     Promo  Friday       2.800000      4   19  2019  \n",
       "59  Flexible  Friday       2.500000      4   19  2019  \n",
       "60     Promo  Friday       2.666667      4   19  2019  \n",
       "61     Promo  Friday       2.416667      4   19  2019  \n",
       "62  Flexible  Friday       2.500000      4   19  2019  "
      ]
     },
     "execution_count": 41,
     "metadata": {},
     "output_type": "execute_result"
    }
   ],
   "source": [
    "# make filter origin from SEVILLA to other destination\n",
    "\n",
    "df_S=df[(df[\"origin\"]==\"SEVILLA\")]\n",
    "df_S.head()"
   ]
  },
  {
   "cell_type": "code",
   "execution_count": 42,
   "id": "fa16ab7c",
   "metadata": {
    "execution": {
     "iopub.execute_input": "2022-07-29T19:44:50.778869Z",
     "iopub.status.busy": "2022-07-29T19:44:50.778071Z",
     "iopub.status.idle": "2022-07-29T19:44:50.852176Z",
     "shell.execute_reply": "2022-07-29T19:44:50.850308Z"
    },
    "papermill": {
     "duration": 0.113152,
     "end_time": "2022-07-29T19:44:50.854906",
     "exception": false,
     "start_time": "2022-07-29T19:44:50.741754",
     "status": "completed"
    },
    "tags": []
   },
   "outputs": [
    {
     "name": "stderr",
     "output_type": "stream",
     "text": [
      "/opt/conda/lib/python3.7/site-packages/ipykernel_launcher.py:3: FutureWarning:\n",
      "\n",
      "Indexing with multiple keys (implicitly converted to a tuple of keys) will be deprecated, use a list instead.\n",
      "\n"
     ]
    },
    {
     "data": {
      "text/html": [
       "<div>\n",
       "<style scoped>\n",
       "    .dataframe tbody tr th:only-of-type {\n",
       "        vertical-align: middle;\n",
       "    }\n",
       "\n",
       "    .dataframe tbody tr th {\n",
       "        vertical-align: top;\n",
       "    }\n",
       "\n",
       "    .dataframe thead th {\n",
       "        text-align: right;\n",
       "    }\n",
       "</style>\n",
       "<table border=\"1\" class=\"dataframe\">\n",
       "  <thead>\n",
       "    <tr style=\"text-align: right;\">\n",
       "      <th></th>\n",
       "      <th></th>\n",
       "      <th>Trip duration</th>\n",
       "      <th>price</th>\n",
       "    </tr>\n",
       "    <tr>\n",
       "      <th>destination</th>\n",
       "      <th>train_type</th>\n",
       "      <th></th>\n",
       "      <th></th>\n",
       "    </tr>\n",
       "  </thead>\n",
       "  <tbody>\n",
       "    <tr>\n",
       "      <th rowspan=\"6\" valign=\"top\">MADRID</th>\n",
       "      <th>ALVIA</th>\n",
       "      <td>2.720450</td>\n",
       "      <td>66.560844</td>\n",
       "    </tr>\n",
       "    <tr>\n",
       "      <th>AV City</th>\n",
       "      <td>2.879860</td>\n",
       "      <td>50.761134</td>\n",
       "    </tr>\n",
       "    <tr>\n",
       "      <th>AVE</th>\n",
       "      <td>2.535971</td>\n",
       "      <td>64.859143</td>\n",
       "    </tr>\n",
       "    <tr>\n",
       "      <th>INTERCITY</th>\n",
       "      <td>2.666667</td>\n",
       "      <td>62.200000</td>\n",
       "    </tr>\n",
       "    <tr>\n",
       "      <th>LD-MD</th>\n",
       "      <td>6.850109</td>\n",
       "      <td>35.961550</td>\n",
       "    </tr>\n",
       "    <tr>\n",
       "      <th>MD</th>\n",
       "      <td>12.088195</td>\n",
       "      <td>52.500000</td>\n",
       "    </tr>\n",
       "  </tbody>\n",
       "</table>\n",
       "</div>"
      ],
      "text/plain": [
       "                        Trip duration      price\n",
       "destination train_type                          \n",
       "MADRID      ALVIA            2.720450  66.560844\n",
       "            AV City          2.879860  50.761134\n",
       "            AVE              2.535971  64.859143\n",
       "            INTERCITY        2.666667  62.200000\n",
       "            LD-MD            6.850109  35.961550\n",
       "            MD              12.088195  52.500000"
      ]
     },
     "execution_count": 42,
     "metadata": {},
     "output_type": "execute_result"
    }
   ],
   "source": [
    "# make group by \n",
    "\n",
    "S=df_S.groupby([\"destination\",\"train_type\"])[\"Trip duration\",\"price\"].mean()\n",
    "S"
   ]
  },
  {
   "cell_type": "code",
   "execution_count": 43,
   "id": "37372764",
   "metadata": {
    "execution": {
     "iopub.execute_input": "2022-07-29T19:44:50.927752Z",
     "iopub.status.busy": "2022-07-29T19:44:50.926903Z",
     "iopub.status.idle": "2022-07-29T19:44:51.184675Z",
     "shell.execute_reply": "2022-07-29T19:44:51.183796Z"
    },
    "papermill": {
     "duration": 0.296247,
     "end_time": "2022-07-29T19:44:51.186871",
     "exception": false,
     "start_time": "2022-07-29T19:44:50.890624",
     "status": "completed"
    },
    "tags": []
   },
   "outputs": [
    {
     "data": {
      "text/plain": [
       "<AxesSubplot:xlabel='destination,train_type'>"
      ]
     },
     "execution_count": 43,
     "metadata": {},
     "output_type": "execute_result"
    },
    {
     "data": {
      "image/png": "[encoded data removed]",
      "text/plain": [
       "<Figure size 1224x504 with 1 Axes>"
      ]
     },
     "metadata": {
      "needs_background": "light"
     },
     "output_type": "display_data"
    }
   ],
   "source": [
    "# make graph\n",
    "S.plot(kind=\"bar\",figsize=(17,7))"
   ]
  },
  {
   "cell_type": "code",
   "execution_count": 44,
   "id": "30e997c6",
   "metadata": {
    "execution": {
     "iopub.execute_input": "2022-07-29T19:44:51.263262Z",
     "iopub.status.busy": "2022-07-29T19:44:51.262618Z",
     "iopub.status.idle": "2022-07-29T19:44:51.655821Z",
     "shell.execute_reply": "2022-07-29T19:44:51.654944Z"
    },
    "papermill": {
     "duration": 0.434397,
     "end_time": "2022-07-29T19:44:51.658022",
     "exception": false,
     "start_time": "2022-07-29T19:44:51.223625",
     "status": "completed"
    },
    "tags": []
   },
   "outputs": [
    {
     "data": {
      "text/html": [
       "<div>\n",
       "<style scoped>\n",
       "    .dataframe tbody tr th:only-of-type {\n",
       "        vertical-align: middle;\n",
       "    }\n",
       "\n",
       "    .dataframe tbody tr th {\n",
       "        vertical-align: top;\n",
       "    }\n",
       "\n",
       "    .dataframe thead th {\n",
       "        text-align: right;\n",
       "    }\n",
       "</style>\n",
       "<table border=\"1\" class=\"dataframe\">\n",
       "  <thead>\n",
       "    <tr style=\"text-align: right;\">\n",
       "      <th></th>\n",
       "      <th>index</th>\n",
       "      <th>Unnamed: 0</th>\n",
       "      <th>insert_date</th>\n",
       "      <th>origin</th>\n",
       "      <th>destination</th>\n",
       "      <th>start_date</th>\n",
       "      <th>end_date</th>\n",
       "      <th>train_type</th>\n",
       "      <th>price</th>\n",
       "      <th>train_class</th>\n",
       "      <th>fare</th>\n",
       "      <th>Day</th>\n",
       "      <th>Trip duration</th>\n",
       "      <th>Month</th>\n",
       "      <th>day</th>\n",
       "      <th>year</th>\n",
       "    </tr>\n",
       "  </thead>\n",
       "  <tbody>\n",
       "    <tr>\n",
       "      <th>4016</th>\n",
       "      <td>4433</td>\n",
       "      <td>4433</td>\n",
       "      <td>2019-04-19 06:23:50</td>\n",
       "      <td>VALENCIA</td>\n",
       "      <td>MADRID</td>\n",
       "      <td>2019-04-28 10:40:00</td>\n",
       "      <td>2019-04-28 12:27:00</td>\n",
       "      <td>AVE</td>\n",
       "      <td>73.10</td>\n",
       "      <td>Turista</td>\n",
       "      <td>Flexible</td>\n",
       "      <td>Friday</td>\n",
       "      <td>1.783333</td>\n",
       "      <td>4</td>\n",
       "      <td>19</td>\n",
       "      <td>2019</td>\n",
       "    </tr>\n",
       "    <tr>\n",
       "      <th>4152</th>\n",
       "      <td>4573</td>\n",
       "      <td>4573</td>\n",
       "      <td>2019-04-19 06:23:50</td>\n",
       "      <td>VALENCIA</td>\n",
       "      <td>MADRID</td>\n",
       "      <td>2019-04-28 06:38:00</td>\n",
       "      <td>2019-04-28 13:37:00</td>\n",
       "      <td>REGIONAL</td>\n",
       "      <td>28.35</td>\n",
       "      <td>Turista</td>\n",
       "      <td>Adulto ida</td>\n",
       "      <td>Friday</td>\n",
       "      <td>6.983333</td>\n",
       "      <td>4</td>\n",
       "      <td>19</td>\n",
       "      <td>2019</td>\n",
       "    </tr>\n",
       "    <tr>\n",
       "      <th>4153</th>\n",
       "      <td>4574</td>\n",
       "      <td>4574</td>\n",
       "      <td>2019-04-19 06:23:50</td>\n",
       "      <td>VALENCIA</td>\n",
       "      <td>MADRID</td>\n",
       "      <td>2019-04-28 08:00:00</td>\n",
       "      <td>2019-04-28 09:53:00</td>\n",
       "      <td>AVE</td>\n",
       "      <td>66.55</td>\n",
       "      <td>Preferente</td>\n",
       "      <td>Promo</td>\n",
       "      <td>Friday</td>\n",
       "      <td>1.883333</td>\n",
       "      <td>4</td>\n",
       "      <td>19</td>\n",
       "      <td>2019</td>\n",
       "    </tr>\n",
       "    <tr>\n",
       "      <th>4154</th>\n",
       "      <td>4575</td>\n",
       "      <td>4575</td>\n",
       "      <td>2019-04-19 06:23:50</td>\n",
       "      <td>VALENCIA</td>\n",
       "      <td>MADRID</td>\n",
       "      <td>2019-04-28 09:50:00</td>\n",
       "      <td>2019-04-28 16:58:00</td>\n",
       "      <td>REGIONAL</td>\n",
       "      <td>28.35</td>\n",
       "      <td>Turista</td>\n",
       "      <td>Adulto ida</td>\n",
       "      <td>Friday</td>\n",
       "      <td>7.133333</td>\n",
       "      <td>4</td>\n",
       "      <td>19</td>\n",
       "      <td>2019</td>\n",
       "    </tr>\n",
       "    <tr>\n",
       "      <th>4155</th>\n",
       "      <td>4576</td>\n",
       "      <td>4576</td>\n",
       "      <td>2019-04-19 06:23:50</td>\n",
       "      <td>VALENCIA</td>\n",
       "      <td>MADRID</td>\n",
       "      <td>2019-04-28 12:40:00</td>\n",
       "      <td>2019-04-28 14:20:00</td>\n",
       "      <td>AVE</td>\n",
       "      <td>51.15</td>\n",
       "      <td>Turista</td>\n",
       "      <td>Promo</td>\n",
       "      <td>Friday</td>\n",
       "      <td>1.666667</td>\n",
       "      <td>4</td>\n",
       "      <td>19</td>\n",
       "      <td>2019</td>\n",
       "    </tr>\n",
       "  </tbody>\n",
       "</table>\n",
       "</div>"
      ],
      "text/plain": [
       "      index  Unnamed: 0         insert_date    origin destination  \\\n",
       "4016   4433        4433 2019-04-19 06:23:50  VALENCIA      MADRID   \n",
       "4152   4573        4573 2019-04-19 06:23:50  VALENCIA      MADRID   \n",
       "4153   4574        4574 2019-04-19 06:23:50  VALENCIA      MADRID   \n",
       "4154   4575        4575 2019-04-19 06:23:50  VALENCIA      MADRID   \n",
       "4155   4576        4576 2019-04-19 06:23:50  VALENCIA      MADRID   \n",
       "\n",
       "               start_date             end_date train_type  price train_class  \\\n",
       "4016  2019-04-28 10:40:00  2019-04-28 12:27:00        AVE  73.10     Turista   \n",
       "4152  2019-04-28 06:38:00  2019-04-28 13:37:00   REGIONAL  28.35     Turista   \n",
       "4153  2019-04-28 08:00:00  2019-04-28 09:53:00        AVE  66.55  Preferente   \n",
       "4154  2019-04-28 09:50:00  2019-04-28 16:58:00   REGIONAL  28.35     Turista   \n",
       "4155  2019-04-28 12:40:00  2019-04-28 14:20:00        AVE  51.15     Turista   \n",
       "\n",
       "            fare     Day  Trip duration  Month  day  year  \n",
       "4016    Flexible  Friday       1.783333      4   19  2019  \n",
       "4152  Adulto ida  Friday       6.983333      4   19  2019  \n",
       "4153       Promo  Friday       1.883333      4   19  2019  \n",
       "4154  Adulto ida  Friday       7.133333      4   19  2019  \n",
       "4155       Promo  Friday       1.666667      4   19  2019  "
      ]
     },
     "execution_count": 44,
     "metadata": {},
     "output_type": "execute_result"
    }
   ],
   "source": [
    "# make filter origin from VALENCIA to other destination\n",
    "\n",
    "df_V=df[(df[\"origin\"]==\"VALENCIA\")]\n",
    "df_V.head()"
   ]
  },
  {
   "cell_type": "code",
   "execution_count": 45,
   "id": "377714bf",
   "metadata": {
    "execution": {
     "iopub.execute_input": "2022-07-29T19:44:51.733782Z",
     "iopub.status.busy": "2022-07-29T19:44:51.733384Z",
     "iopub.status.idle": "2022-07-29T19:44:51.815813Z",
     "shell.execute_reply": "2022-07-29T19:44:51.814261Z"
    },
    "papermill": {
     "duration": 0.122406,
     "end_time": "2022-07-29T19:44:51.818231",
     "exception": false,
     "start_time": "2022-07-29T19:44:51.695825",
     "status": "completed"
    },
    "tags": []
   },
   "outputs": [
    {
     "name": "stderr",
     "output_type": "stream",
     "text": [
      "/opt/conda/lib/python3.7/site-packages/ipykernel_launcher.py:3: FutureWarning:\n",
      "\n",
      "Indexing with multiple keys (implicitly converted to a tuple of keys) will be deprecated, use a list instead.\n",
      "\n"
     ]
    },
    {
     "data": {
      "text/html": [
       "<div>\n",
       "<style scoped>\n",
       "    .dataframe tbody tr th:only-of-type {\n",
       "        vertical-align: middle;\n",
       "    }\n",
       "\n",
       "    .dataframe tbody tr th {\n",
       "        vertical-align: top;\n",
       "    }\n",
       "\n",
       "    .dataframe thead th {\n",
       "        text-align: right;\n",
       "    }\n",
       "</style>\n",
       "<table border=\"1\" class=\"dataframe\">\n",
       "  <thead>\n",
       "    <tr style=\"text-align: right;\">\n",
       "      <th></th>\n",
       "      <th></th>\n",
       "      <th>Trip duration</th>\n",
       "      <th>price</th>\n",
       "    </tr>\n",
       "    <tr>\n",
       "      <th>destination</th>\n",
       "      <th>train_type</th>\n",
       "      <th></th>\n",
       "      <th></th>\n",
       "    </tr>\n",
       "  </thead>\n",
       "  <tbody>\n",
       "    <tr>\n",
       "      <th rowspan=\"5\" valign=\"top\">MADRID</th>\n",
       "      <th>ALVIA</th>\n",
       "      <td>2.550000</td>\n",
       "      <td>46.767803</td>\n",
       "    </tr>\n",
       "    <tr>\n",
       "      <th>AVE</th>\n",
       "      <td>1.729050</td>\n",
       "      <td>45.309527</td>\n",
       "    </tr>\n",
       "    <tr>\n",
       "      <th>INTERCITY</th>\n",
       "      <td>3.106862</td>\n",
       "      <td>32.014586</td>\n",
       "    </tr>\n",
       "    <tr>\n",
       "      <th>MD-LD</th>\n",
       "      <td>6.475652</td>\n",
       "      <td>30.794604</td>\n",
       "    </tr>\n",
       "    <tr>\n",
       "      <th>REGIONAL</th>\n",
       "      <td>7.492124</td>\n",
       "      <td>28.350000</td>\n",
       "    </tr>\n",
       "  </tbody>\n",
       "</table>\n",
       "</div>"
      ],
      "text/plain": [
       "                        Trip duration      price\n",
       "destination train_type                          \n",
       "MADRID      ALVIA            2.550000  46.767803\n",
       "            AVE              1.729050  45.309527\n",
       "            INTERCITY        3.106862  32.014586\n",
       "            MD-LD            6.475652  30.794604\n",
       "            REGIONAL         7.492124  28.350000"
      ]
     },
     "execution_count": 45,
     "metadata": {},
     "output_type": "execute_result"
    }
   ],
   "source": [
    "# make group by \n",
    "\n",
    "V=df_V.groupby([\"destination\",\"train_type\"])[\"Trip duration\",\"price\"].mean()\n",
    "V"
   ]
  },
  {
   "cell_type": "code",
   "execution_count": 46,
   "id": "9cd337b4",
   "metadata": {
    "execution": {
     "iopub.execute_input": "2022-07-29T19:44:51.894169Z",
     "iopub.status.busy": "2022-07-29T19:44:51.893089Z",
     "iopub.status.idle": "2022-07-29T19:44:52.126972Z",
     "shell.execute_reply": "2022-07-29T19:44:52.125785Z"
    },
    "papermill": {
     "duration": 0.274273,
     "end_time": "2022-07-29T19:44:52.129426",
     "exception": false,
     "start_time": "2022-07-29T19:44:51.855153",
     "status": "completed"
    },
    "tags": []
   },
   "outputs": [
    {
     "data": {
      "text/plain": [
       "<AxesSubplot:xlabel='destination,train_type'>"
      ]
     },
     "execution_count": 46,
     "metadata": {},
     "output_type": "execute_result"
    },
    {
     "data": {
      "image/png": "[encoded data removed]",
      "text/plain": [
       "<Figure size 1224x504 with 1 Axes>"
      ]
     },
     "metadata": {
      "needs_background": "light"
     },
     "output_type": "display_data"
    }
   ],
   "source": [
    "# make graph\n",
    "V.plot(kind=\"bar\",figsize=(17,7))"
   ]
  },
  {
   "cell_type": "code",
   "execution_count": 47,
   "id": "d97763c3",
   "metadata": {
    "execution": {
     "iopub.execute_input": "2022-07-29T19:44:52.208828Z",
     "iopub.status.busy": "2022-07-29T19:44:52.208424Z",
     "iopub.status.idle": "2022-07-29T19:44:52.558129Z",
     "shell.execute_reply": "2022-07-29T19:44:52.557077Z"
    },
    "papermill": {
     "duration": 0.394461,
     "end_time": "2022-07-29T19:44:52.561049",
     "exception": false,
     "start_time": "2022-07-29T19:44:52.166588",
     "status": "completed"
    },
    "tags": []
   },
   "outputs": [
    {
     "data": {
      "text/html": [
       "<div>\n",
       "<style scoped>\n",
       "    .dataframe tbody tr th:only-of-type {\n",
       "        vertical-align: middle;\n",
       "    }\n",
       "\n",
       "    .dataframe tbody tr th {\n",
       "        vertical-align: top;\n",
       "    }\n",
       "\n",
       "    .dataframe thead th {\n",
       "        text-align: right;\n",
       "    }\n",
       "</style>\n",
       "<table border=\"1\" class=\"dataframe\">\n",
       "  <thead>\n",
       "    <tr style=\"text-align: right;\">\n",
       "      <th></th>\n",
       "      <th>index</th>\n",
       "      <th>Unnamed: 0</th>\n",
       "      <th>insert_date</th>\n",
       "      <th>origin</th>\n",
       "      <th>destination</th>\n",
       "      <th>start_date</th>\n",
       "      <th>end_date</th>\n",
       "      <th>train_type</th>\n",
       "      <th>price</th>\n",
       "      <th>train_class</th>\n",
       "      <th>fare</th>\n",
       "      <th>Day</th>\n",
       "      <th>Trip duration</th>\n",
       "      <th>Month</th>\n",
       "      <th>day</th>\n",
       "      <th>year</th>\n",
       "    </tr>\n",
       "  </thead>\n",
       "  <tbody>\n",
       "    <tr>\n",
       "      <th>567</th>\n",
       "      <td>680</td>\n",
       "      <td>680</td>\n",
       "      <td>2019-04-19 05:35:40</td>\n",
       "      <td>PONFERRADA</td>\n",
       "      <td>MADRID</td>\n",
       "      <td>2019-04-28 11:28:00</td>\n",
       "      <td>2019-04-28 16:00:00</td>\n",
       "      <td>LD</td>\n",
       "      <td>57.00</td>\n",
       "      <td>Turista con enlace</td>\n",
       "      <td>Flexible</td>\n",
       "      <td>Friday</td>\n",
       "      <td>4.533333</td>\n",
       "      <td>4</td>\n",
       "      <td>19</td>\n",
       "      <td>2019</td>\n",
       "    </tr>\n",
       "    <tr>\n",
       "      <th>568</th>\n",
       "      <td>681</td>\n",
       "      <td>681</td>\n",
       "      <td>2019-04-19 05:35:40</td>\n",
       "      <td>PONFERRADA</td>\n",
       "      <td>MADRID</td>\n",
       "      <td>2019-04-28 11:44:00</td>\n",
       "      <td>2019-04-28 16:00:00</td>\n",
       "      <td>MD-LD</td>\n",
       "      <td>54.10</td>\n",
       "      <td>Turista con enlace</td>\n",
       "      <td>Flexible</td>\n",
       "      <td>Friday</td>\n",
       "      <td>4.266667</td>\n",
       "      <td>4</td>\n",
       "      <td>19</td>\n",
       "      <td>2019</td>\n",
       "    </tr>\n",
       "    <tr>\n",
       "      <th>569</th>\n",
       "      <td>683</td>\n",
       "      <td>683</td>\n",
       "      <td>2019-04-19 05:35:40</td>\n",
       "      <td>PONFERRADA</td>\n",
       "      <td>MADRID</td>\n",
       "      <td>2019-04-28 15:00:00</td>\n",
       "      <td>2019-04-28 19:42:00</td>\n",
       "      <td>MD-AVE</td>\n",
       "      <td>59.50</td>\n",
       "      <td>Turista con enlace</td>\n",
       "      <td>Flexible</td>\n",
       "      <td>Friday</td>\n",
       "      <td>4.700000</td>\n",
       "      <td>4</td>\n",
       "      <td>19</td>\n",
       "      <td>2019</td>\n",
       "    </tr>\n",
       "    <tr>\n",
       "      <th>570</th>\n",
       "      <td>684</td>\n",
       "      <td>684</td>\n",
       "      <td>2019-04-19 05:35:40</td>\n",
       "      <td>PONFERRADA</td>\n",
       "      <td>MADRID</td>\n",
       "      <td>2019-04-28 17:15:00</td>\n",
       "      <td>2019-04-28 23:03:00</td>\n",
       "      <td>MD-AVE</td>\n",
       "      <td>39.95</td>\n",
       "      <td>Turista con enlace</td>\n",
       "      <td>Promo +</td>\n",
       "      <td>Friday</td>\n",
       "      <td>5.800000</td>\n",
       "      <td>4</td>\n",
       "      <td>19</td>\n",
       "      <td>2019</td>\n",
       "    </tr>\n",
       "    <tr>\n",
       "      <th>571</th>\n",
       "      <td>685</td>\n",
       "      <td>685</td>\n",
       "      <td>2019-04-19 05:35:40</td>\n",
       "      <td>PONFERRADA</td>\n",
       "      <td>MADRID</td>\n",
       "      <td>2019-04-28 17:15:00</td>\n",
       "      <td>2019-04-28 23:10:00</td>\n",
       "      <td>MD-LD</td>\n",
       "      <td>53.30</td>\n",
       "      <td>Turista con enlace</td>\n",
       "      <td>Flexible</td>\n",
       "      <td>Friday</td>\n",
       "      <td>5.916667</td>\n",
       "      <td>4</td>\n",
       "      <td>19</td>\n",
       "      <td>2019</td>\n",
       "    </tr>\n",
       "  </tbody>\n",
       "</table>\n",
       "</div>"
      ],
      "text/plain": [
       "     index  Unnamed: 0         insert_date      origin destination  \\\n",
       "567    680         680 2019-04-19 05:35:40  PONFERRADA      MADRID   \n",
       "568    681         681 2019-04-19 05:35:40  PONFERRADA      MADRID   \n",
       "569    683         683 2019-04-19 05:35:40  PONFERRADA      MADRID   \n",
       "570    684         684 2019-04-19 05:35:40  PONFERRADA      MADRID   \n",
       "571    685         685 2019-04-19 05:35:40  PONFERRADA      MADRID   \n",
       "\n",
       "              start_date             end_date train_type  price  \\\n",
       "567  2019-04-28 11:28:00  2019-04-28 16:00:00         LD  57.00   \n",
       "568  2019-04-28 11:44:00  2019-04-28 16:00:00      MD-LD  54.10   \n",
       "569  2019-04-28 15:00:00  2019-04-28 19:42:00     MD-AVE  59.50   \n",
       "570  2019-04-28 17:15:00  2019-04-28 23:03:00     MD-AVE  39.95   \n",
       "571  2019-04-28 17:15:00  2019-04-28 23:10:00      MD-LD  53.30   \n",
       "\n",
       "            train_class      fare     Day  Trip duration  Month  day  year  \n",
       "567  Turista con enlace  Flexible  Friday       4.533333      4   19  2019  \n",
       "568  Turista con enlace  Flexible  Friday       4.266667      4   19  2019  \n",
       "569  Turista con enlace  Flexible  Friday       4.700000      4   19  2019  \n",
       "570  Turista con enlace   Promo +  Friday       5.800000      4   19  2019  \n",
       "571  Turista con enlace  Flexible  Friday       5.916667      4   19  2019  "
      ]
     },
     "execution_count": 47,
     "metadata": {},
     "output_type": "execute_result"
    }
   ],
   "source": [
    "# make filter origin from PONFERRADA to other destination\n",
    "\n",
    "df_P=df[(df[\"origin\"]==\"PONFERRADA\")]\n",
    "df_P.head()"
   ]
  },
  {
   "cell_type": "code",
   "execution_count": 48,
   "id": "0d45e001",
   "metadata": {
    "execution": {
     "iopub.execute_input": "2022-07-29T19:44:52.659148Z",
     "iopub.status.busy": "2022-07-29T19:44:52.658605Z",
     "iopub.status.idle": "2022-07-29T19:44:52.689335Z",
     "shell.execute_reply": "2022-07-29T19:44:52.688164Z"
    },
    "papermill": {
     "duration": 0.08398,
     "end_time": "2022-07-29T19:44:52.691692",
     "exception": false,
     "start_time": "2022-07-29T19:44:52.607712",
     "status": "completed"
    },
    "tags": []
   },
   "outputs": [
    {
     "name": "stderr",
     "output_type": "stream",
     "text": [
      "/opt/conda/lib/python3.7/site-packages/ipykernel_launcher.py:3: FutureWarning:\n",
      "\n",
      "Indexing with multiple keys (implicitly converted to a tuple of keys) will be deprecated, use a list instead.\n",
      "\n"
     ]
    },
    {
     "data": {
      "text/html": [
       "<div>\n",
       "<style scoped>\n",
       "    .dataframe tbody tr th:only-of-type {\n",
       "        vertical-align: middle;\n",
       "    }\n",
       "\n",
       "    .dataframe tbody tr th {\n",
       "        vertical-align: top;\n",
       "    }\n",
       "\n",
       "    .dataframe thead th {\n",
       "        text-align: right;\n",
       "    }\n",
       "</style>\n",
       "<table border=\"1\" class=\"dataframe\">\n",
       "  <thead>\n",
       "    <tr style=\"text-align: right;\">\n",
       "      <th></th>\n",
       "      <th></th>\n",
       "      <th>Trip duration</th>\n",
       "      <th>price</th>\n",
       "    </tr>\n",
       "    <tr>\n",
       "      <th>destination</th>\n",
       "      <th>train_type</th>\n",
       "      <th></th>\n",
       "      <th></th>\n",
       "    </tr>\n",
       "  </thead>\n",
       "  <tbody>\n",
       "    <tr>\n",
       "      <th rowspan=\"5\" valign=\"top\">MADRID</th>\n",
       "      <th>ALVIA</th>\n",
       "      <td>4.079444</td>\n",
       "      <td>35.348646</td>\n",
       "    </tr>\n",
       "    <tr>\n",
       "      <th>LD</th>\n",
       "      <td>5.022031</td>\n",
       "      <td>42.527194</td>\n",
       "    </tr>\n",
       "    <tr>\n",
       "      <th>MD-AVE</th>\n",
       "      <td>5.153288</td>\n",
       "      <td>45.623451</td>\n",
       "    </tr>\n",
       "    <tr>\n",
       "      <th>MD-LD</th>\n",
       "      <td>4.789095</td>\n",
       "      <td>41.812172</td>\n",
       "    </tr>\n",
       "    <tr>\n",
       "      <th>TRENHOTEL</th>\n",
       "      <td>6.916667</td>\n",
       "      <td>47.565925</td>\n",
       "    </tr>\n",
       "  </tbody>\n",
       "</table>\n",
       "</div>"
      ],
      "text/plain": [
       "                        Trip duration      price\n",
       "destination train_type                          \n",
       "MADRID      ALVIA            4.079444  35.348646\n",
       "            LD               5.022031  42.527194\n",
       "            MD-AVE           5.153288  45.623451\n",
       "            MD-LD            4.789095  41.812172\n",
       "            TRENHOTEL        6.916667  47.565925"
      ]
     },
     "execution_count": 48,
     "metadata": {},
     "output_type": "execute_result"
    }
   ],
   "source": [
    "# make group by \n",
    "\n",
    "P=df_P.groupby([\"destination\",\"train_type\"])[\"Trip duration\",\"price\"].mean()\n",
    "P"
   ]
  },
  {
   "cell_type": "code",
   "execution_count": 49,
   "id": "2686328c",
   "metadata": {
    "execution": {
     "iopub.execute_input": "2022-07-29T19:44:52.768764Z",
     "iopub.status.busy": "2022-07-29T19:44:52.768123Z",
     "iopub.status.idle": "2022-07-29T19:44:52.961958Z",
     "shell.execute_reply": "2022-07-29T19:44:52.961115Z"
    },
    "papermill": {
     "duration": 0.234535,
     "end_time": "2022-07-29T19:44:52.964143",
     "exception": false,
     "start_time": "2022-07-29T19:44:52.729608",
     "status": "completed"
    },
    "tags": []
   },
   "outputs": [
    {
     "data": {
      "text/plain": [
       "<AxesSubplot:xlabel='destination,train_type'>"
      ]
     },
     "execution_count": 49,
     "metadata": {},
     "output_type": "execute_result"
    },
    {
     "data": {
      "image/png": "[encoded data removed]",
      "text/plain": [
       "<Figure size 1224x504 with 1 Axes>"
      ]
     },
     "metadata": {
      "needs_background": "light"
     },
     "output_type": "display_data"
    }
   ],
   "source": [
    "# make graph\n",
    "P.plot(kind=\"bar\",figsize=(17,7))"
   ]
  },
  {
   "cell_type": "markdown",
   "id": "ee8f6344",
   "metadata": {
    "papermill": {
     "duration": 0.038139,
     "end_time": "2022-07-29T19:44:53.040985",
     "exception": false,
     "start_time": "2022-07-29T19:44:53.002846",
     "status": "completed"
    },
    "tags": []
   },
   "source": [
    "# Analysis Results:\n",
    "\n",
    "## Public Transportations in Spain\n",
    "\n",
    "#### This sample around 30 days , 2.5 million rows.\n",
    "#### The columns:\n",
    "- Insert date -> Date\n",
    "- Origin - from where\n",
    "- Destination\n",
    "- Start_date - start trip\n",
    "- End_date- end trip\n",
    "- Train_type\n",
    "- Price\n",
    "- Train_class\n",
    "- Fare\n",
    "-------------\n",
    "\n",
    "- We have 2,579,771 rows. \n",
    "- We have 2,579,771 rows.after handle missing data and 10 columns\n",
    "\n",
    "##### Average price 63\n",
    "\n",
    "\n",
    "##### The data from 19/4/2019 to 18/5/2019 = 29 Days\n",
    "\n",
    "\n",
    "#### The train strat from  MADRID  to 5 destination in insite MADRID , BARCELONA  , SEVILLA  , VALENCIA ,PONFERRADA .\n",
    "#### This 5 destination just going to MADRID .\n",
    "\n",
    "\n",
    "### The people start trip from this stations.\n",
    "- MADRID 52%\n",
    "- BARCELONA 15%\n",
    "- SEVILLA 15%\n",
    "- VALENCIA 13%\n",
    "- PONFERRADA 5 %\n",
    "\n",
    "\n",
    "### The people finish trip from this stations:\n",
    "- MADRID 47%\n",
    "- BARCELONA 18%\n",
    "- SEVILLA 16%\n",
    "- VALENCIA 15 %\n",
    "- PONFERRADA 4%\n",
    "\n",
    "### Most people using train insite Madrid\n",
    "\n",
    "\n",
    "\n",
    "### The train type more popular there/ more using:\n",
    "- AVE 70%\n",
    "- ALVIA 7%\n",
    "- REGIONAL 5%\n",
    "\n",
    "- Other train less 5 %\n",
    " \n",
    "### The people prefer train AVE because faster but not cheaper.\n",
    "\n",
    "\n",
    "\n",
    "\n",
    "\n",
    "### The train class more popular there/ more using :\n",
    "- Turista 75%\n",
    "- Preferente 10%\n",
    "- Turista Plus 8%\n",
    "- Turista con enlace 7%\n",
    "- Cama Turista 0\n",
    "- Cama G. Clase 0\n",
    "\n",
    "\n",
    "### The people prefer train class Turista because faster and cheaper\n",
    "\n",
    "\n",
    "\n",
    "\n",
    "### The fare more popular there/ more using :\n",
    "- Promo 68%\n",
    "- Flexible 23%\n",
    "- Adulto ida 7%\n",
    "- Promo 2%\n",
    "- Individual-Flexible 0\n",
    "- Mesa 0\n",
    "- Grupos Ida 0\n",
    "\n",
    "\n",
    "### The people prefer fare - Promo- because faster and cheaper around 60 €  and the time 2:30\n",
    "\n",
    "\n",
    "\n",
    "\n",
    "#### The days using train\n",
    "- Monday 17 %\n",
    "- Tuesday 15%\n",
    "- Wednesday 14 %\n",
    "- Thursday 12%\n",
    "- Friday 13 %\n",
    "- Saturday 13 %\n",
    "- Sunday 16 %\n",
    "\n",
    "\n",
    "\n",
    "\n",
    "# Notes 😃😃😃😃\n",
    "\n",
    "- Thank for reading my analysis 😃😃😃😃\n",
    "\n",
    "- If you any questions or advice me please write in the comment . ❤️❤️❤️❤️\n",
    "\n",
    "\n",
    "\n",
    "# Vote ❤️😃\n",
    "- If you liked my work vote me ,\n",
    "\n",
    "\n",
    "# The End 🤝🎉🤝🎉"
   ]
  }
 ],
 "metadata": {
  "kernelspec": {
   "display_name": "Python 3",
   "language": "python",
   "name": "python3"
  },
  "language_info": {
   "codemirror_mode": {
    "name": "ipython",
    "version": 3
   },
   "file_extension": ".py",
   "mimetype": "text/x-python",
   "name": "python",
   "nbconvert_exporter": "python",
   "pygments_lexer": "ipython3",
   "version": "3.7.12"
  },
  "papermill": {
   "default_parameters": {},
   "duration": 561.86185,
   "end_time": "2022-07-29T19:44:54.406217",
   "environment_variables": {},
   "exception": null,
   "input_path": "__notebook__.ipynb",
   "output_path": "__notebook__.ipynb",
   "parameters": {},
   "start_time": "2022-07-29T19:35:32.544367",
   "version": "2.3.4"
  }
 },
 "nbformat": 4,
 "nbformat_minor": 5
}
